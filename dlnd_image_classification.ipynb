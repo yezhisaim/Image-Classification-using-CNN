{
 "cells": [
  {
   "cell_type": "markdown",
   "metadata": {
    "collapsed": true,
    "deletable": true,
    "editable": true
   },
   "source": [
    "# Image Classification\n",
    "In this project, you'll classify images from the [CIFAR-10 dataset](https://www.cs.toronto.edu/~kriz/cifar.html).  The dataset consists of airplanes, dogs, cats, and other objects. You'll preprocess the images, then train a convolutional neural network on all the samples. The images need to be normalized and the labels need to be one-hot encoded.  You'll get to apply what you learned and build a convolutional, max pooling, dropout, and fully connected layers.  At the end, you'll get to see your neural network's predictions on the sample images.\n",
    "## Get the Data\n",
    "Run the following cell to download the [CIFAR-10 dataset for python](https://www.cs.toronto.edu/~kriz/cifar-10-python.tar.gz)."
   ]
  },
  {
   "cell_type": "code",
   "execution_count": 4,
   "metadata": {
    "collapsed": false,
    "deletable": true,
    "editable": true
   },
   "outputs": [
    {
     "name": "stdout",
     "output_type": "stream",
     "text": [
      "All files found!\n"
     ]
    }
   ],
   "source": [
    "\"\"\"\n",
    "DON'T MODIFY ANYTHING IN THIS CELL THAT IS BELOW THIS LINE\n",
    "\"\"\"\n",
    "from urllib.request import urlretrieve\n",
    "from os.path import isfile, isdir\n",
    "from tqdm import tqdm\n",
    "import problem_unittests as tests\n",
    "import tarfile\n",
    "\n",
    "cifar10_dataset_folder_path = 'cifar-10-batches-py'\n",
    "\n",
    "class DLProgress(tqdm):\n",
    "    last_block = 0\n",
    "\n",
    "    def hook(self, block_num=1, block_size=1, total_size=None):\n",
    "        self.total = total_size\n",
    "        self.update((block_num - self.last_block) * block_size)\n",
    "        self.last_block = block_num\n",
    "\n",
    "if not isfile('cifar-10-python.tar.gz'):\n",
    "    with DLProgress(unit='B', unit_scale=True, miniters=1, desc='CIFAR-10 Dataset') as pbar:\n",
    "        urlretrieve(\n",
    "            'https://www.cs.toronto.edu/~kriz/cifar-10-python.tar.gz',\n",
    "            'cifar-10-python.tar.gz',\n",
    "            pbar.hook)\n",
    "\n",
    "if not isdir(cifar10_dataset_folder_path):\n",
    "    with tarfile.open('cifar-10-python.tar.gz') as tar:\n",
    "        tar.extractall()\n",
    "        tar.close()\n",
    "\n",
    "\n",
    "tests.test_folder_path(cifar10_dataset_folder_path)"
   ]
  },
  {
   "cell_type": "markdown",
   "metadata": {
    "deletable": true,
    "editable": true
   },
   "source": [
    "## Explore the Data\n",
    "The dataset is broken into batches to prevent your machine from running out of memory.  The CIFAR-10 dataset consists of 5 batches, named `data_batch_1`, `data_batch_2`, etc.. Each batch contains the labels and images that are one of the following:\n",
    "* airplane\n",
    "* automobile\n",
    "* bird\n",
    "* cat\n",
    "* deer\n",
    "* dog\n",
    "* frog\n",
    "* horse\n",
    "* ship\n",
    "* truck\n",
    "\n",
    "Understanding a dataset is part of making predictions on the data.  Play around with the code cell below by changing the `batch_id` and `sample_id`. The `batch_id` is the id for a batch (1-5). The `sample_id` is the id for a image and label pair in the batch.\n",
    "\n",
    "Ask yourself \"What are all possible labels?\", \"What is the range of values for the image data?\", \"Are the labels in order or random?\".  Answers to questions like these will help you preprocess the data and end up with better predictions."
   ]
  },
  {
   "cell_type": "code",
   "execution_count": 5,
   "metadata": {
    "collapsed": false,
    "deletable": true,
    "editable": true
   },
   "outputs": [
    {
     "name": "stdout",
     "output_type": "stream",
     "text": [
      "\n",
      "Stats of batch 1:\n",
      "Samples: 10000\n",
      "Label Counts: {0: 1005, 1: 974, 2: 1032, 3: 1016, 4: 999, 5: 937, 6: 1030, 7: 1001, 8: 1025, 9: 981}\n",
      "First 20 Labels: [6, 9, 9, 4, 1, 1, 2, 7, 8, 3, 4, 7, 7, 2, 9, 9, 9, 3, 2, 6]\n",
      "\n",
      "Example of Image 5:\n",
      "Image - Min Value: 0 Max Value: 252\n",
      "Image - Shape: (32, 32, 3)\n",
      "Label - Label Id: 1 Name: automobile\n"
     ]
    },
    {
     "data": {
      "image/png": "[encoded data removed]",
      "text/plain": [
       "<matplotlib.figure.Figure at 0xb3772e8>"
      ]
     },
     "metadata": {
      "image/png": {
       "height": 250,
       "width": 253
      }
     },
     "output_type": "display_data"
    }
   ],
   "source": [
    "%matplotlib inline\n",
    "%config InlineBackend.figure_format = 'retina'\n",
    "\n",
    "import helper\n",
    "import numpy as np\n",
    "\n",
    "# Explore the dataset\n",
    "batch_id = 1\n",
    "sample_id = 5\n",
    "helper.display_stats(cifar10_dataset_folder_path, batch_id, sample_id)"
   ]
  },
  {
   "cell_type": "markdown",
   "metadata": {
    "deletable": true,
    "editable": true
   },
   "source": [
    "## Implement Preprocess Functions\n",
    "### Normalize\n",
    "In the cell below, implement the `normalize` function to take in image data, `x`, and return it as a normalized Numpy array. The values should be in the range of 0 to 1, inclusive.  The return object should be the same shape as `x`."
   ]
  },
  {
   "cell_type": "code",
   "execution_count": 7,
   "metadata": {
    "collapsed": false,
    "deletable": true,
    "editable": true
   },
   "outputs": [
    {
     "name": "stdout",
     "output_type": "stream",
     "text": [
      "Tests Passed\n"
     ]
    }
   ],
   "source": [
    "def normalize(x):\n",
    "    \"\"\"\n",
    "    Normalize a list of sample image data in the range of 0 to 1\n",
    "    : x: List of image data.  The image shape is (32, 32, 3)\n",
    "    : return: Numpy array of normalize data\n",
    "    \"\"\"\n",
    "    xList = x/255\n",
    "    return xList\n",
    "\n",
    "\n",
    "\"\"\"\n",
    "DON'T MODIFY ANYTHING IN THIS CELL THAT IS BELOW THIS LINE\n",
    "\"\"\"\n",
    "tests.test_normalize(normalize)"
   ]
  },
  {
   "cell_type": "markdown",
   "metadata": {
    "deletable": true,
    "editable": true
   },
   "source": [
    "### One-hot encode\n",
    "Just like the previous code cell, you'll be implementing a function for preprocessing.  This time, you'll implement the `one_hot_encode` function. The input, `x`, are a list of labels.  Implement the function to return the list of labels as One-Hot encoded Numpy array.  The possible values for labels are 0 to 9. The one-hot encoding function should return the same encoding for each value between each call to `one_hot_encode`.  Make sure to save the map of encodings outside the function.\n",
    "\n",
    "Hint: Don't reinvent the wheel."
   ]
  },
  {
   "cell_type": "code",
   "execution_count": 9,
   "metadata": {
    "collapsed": false,
    "deletable": true,
    "editable": true
   },
   "outputs": [
    {
     "name": "stdout",
     "output_type": "stream",
     "text": [
      "Tests Passed\n"
     ]
    }
   ],
   "source": [
    "from sklearn import preprocessing\n",
    "\n",
    "def one_hot_encode(x):\n",
    "    \"\"\"\n",
    "    One hot encode a list of sample labels. Return a one-hot encoded vector for each label.\n",
    "    : x: List of sample Labels\n",
    "    : return: Numpy array of one-hot encoded labels\n",
    "    \"\"\"\n",
    "    lblBin = preprocessing.LabelBinarizer()\n",
    "    lblBin.fit([1,2,3,4,5,6,7,8,9,0])\n",
    "    labels = lblBin.transform(x)\n",
    "    return labels \n",
    "\n",
    "\n",
    "\"\"\"\n",
    "DON'T MODIFY ANYTHING IN THIS CELL THAT IS BELOW THIS LINE\n",
    "\"\"\"\n",
    "tests.test_one_hot_encode(one_hot_encode)"
   ]
  },
  {
   "cell_type": "markdown",
   "metadata": {
    "deletable": true,
    "editable": true
   },
   "source": [
    "### Randomize Data\n",
    "As you saw from exploring the data above, the order of the samples are randomized.  It doesn't hurt to randomize it again, but you don't need to for this dataset."
   ]
  },
  {
   "cell_type": "markdown",
   "metadata": {
    "deletable": true,
    "editable": true
   },
   "source": [
    "## Preprocess all the data and save it\n",
    "Running the code cell below will preprocess all the CIFAR-10 data and save it to file. The code below also uses 10% of the training data for validation."
   ]
  },
  {
   "cell_type": "code",
   "execution_count": 10,
   "metadata": {
    "collapsed": false,
    "deletable": true,
    "editable": true
   },
   "outputs": [],
   "source": [
    "\"\"\"\n",
    "DON'T MODIFY ANYTHING IN THIS CELL\n",
    "\"\"\"\n",
    "# Preprocess Training, Validation, and Testing Data\n",
    "helper.preprocess_and_save_data(cifar10_dataset_folder_path, normalize, one_hot_encode)"
   ]
  },
  {
   "cell_type": "markdown",
   "metadata": {
    "deletable": true,
    "editable": true
   },
   "source": [
    "# Check Point\n",
    "This is your first checkpoint.  If you ever decide to come back to this notebook or have to restart the notebook, you can start from here.  The preprocessed data has been saved to disk."
   ]
  },
  {
   "cell_type": "code",
   "execution_count": 11,
   "metadata": {
    "collapsed": true,
    "deletable": true,
    "editable": true
   },
   "outputs": [],
   "source": [
    "\"\"\"\n",
    "DON'T MODIFY ANYTHING IN THIS CELL\n",
    "\"\"\"\n",
    "import pickle\n",
    "import problem_unittests as tests\n",
    "import helper\n",
    "\n",
    "# Load the Preprocessed Validation data\n",
    "valid_features, valid_labels = pickle.load(open('preprocess_validation.p', mode='rb'))"
   ]
  },
  {
   "cell_type": "markdown",
   "metadata": {
    "deletable": true,
    "editable": true
   },
   "source": [
    "## Build the network\n",
    "For the neural network, you'll build each layer into a function.  Most of the code you've seen has been outside of functions. To test your code more thoroughly, we require that you put each layer in a function.  This allows us to give you better feedback and test for simple mistakes using our unittests before you submit your project.\n",
    "\n",
    ">**Note:** If you're finding it hard to dedicate enough time for this course each week, we've provided a small shortcut to this part of the project. In the next couple of problems, you'll have the option to use classes from the [TensorFlow Layers](https://www.tensorflow.org/api_docs/python/tf/layers) or [TensorFlow Layers (contrib)](https://www.tensorflow.org/api_guides/python/contrib.layers) packages to build each layer, except the layers you build in the \"Convolutional and Max Pooling Layer\" section.  TF Layers is similar to Keras's and TFLearn's abstraction to layers, so it's easy to pickup.\n",
    "\n",
    ">However, if you would like to get the most out of this course, try to solve all the problems _without_ using anything from the TF Layers packages. You **can** still use classes from other packages that happen to have the same name as ones you find in TF Layers! For example, instead of using the TF Layers version of the `conv2d` class, [tf.layers.conv2d](https://www.tensorflow.org/api_docs/python/tf/layers/conv2d), you would want to use the TF Neural Network version of `conv2d`, [tf.nn.conv2d](https://www.tensorflow.org/api_docs/python/tf/nn/conv2d). \n",
    "\n",
    "Let's begin!\n",
    "\n",
    "### Input\n",
    "The neural network needs to read the image data, one-hot encoded labels, and dropout keep probability. Implement the following functions\n",
    "* Implement `neural_net_image_input`\n",
    " * Return a [TF Placeholder](https://www.tensorflow.org/api_docs/python/tf/placeholder)\n",
    " * Set the shape using `image_shape` with batch size set to `None`.\n",
    " * Name the TensorFlow placeholder \"x\" using the TensorFlow `name` parameter in the [TF Placeholder](https://www.tensorflow.org/api_docs/python/tf/placeholder).\n",
    "* Implement `neural_net_label_input`\n",
    " * Return a [TF Placeholder](https://www.tensorflow.org/api_docs/python/tf/placeholder)\n",
    " * Set the shape using `n_classes` with batch size set to `None`.\n",
    " * Name the TensorFlow placeholder \"y\" using the TensorFlow `name` parameter in the [TF Placeholder](https://www.tensorflow.org/api_docs/python/tf/placeholder).\n",
    "* Implement `neural_net_keep_prob_input`\n",
    " * Return a [TF Placeholder](https://www.tensorflow.org/api_docs/python/tf/placeholder) for dropout keep probability.\n",
    " * Name the TensorFlow placeholder \"keep_prob\" using the TensorFlow `name` parameter in the [TF Placeholder](https://www.tensorflow.org/api_docs/python/tf/placeholder).\n",
    "\n",
    "These names will be used at the end of the project to load your saved model.\n",
    "\n",
    "Note: `None` for shapes in TensorFlow allow for a dynamic size."
   ]
  },
  {
   "cell_type": "code",
   "execution_count": 18,
   "metadata": {
    "collapsed": false,
    "deletable": true,
    "editable": true
   },
   "outputs": [
    {
     "name": "stdout",
     "output_type": "stream",
     "text": [
      "Image Input Tests Passed.\n",
      "Label Input Tests Passed.\n",
      "Keep Prob Tests Passed.\n"
     ]
    }
   ],
   "source": [
    "import tensorflow as tf\n",
    "\n",
    "def neural_net_image_input(image_shape):\n",
    "    \"\"\"\n",
    "    Return a Tensor for a batch of image input\n",
    "    : image_shape: Shape of the images\n",
    "    : return: Tensor for image input.\n",
    "    \"\"\"\n",
    "    image_input = tf.placeholder(tf.float32, shape=[None, image_shape[0], image_shape[1], image_shape[2]], name='x')\n",
    "    return image_input\n",
    "\n",
    "\n",
    "def neural_net_label_input(n_classes):\n",
    "    \"\"\"\n",
    "    Return a Tensor for a batch of label input\n",
    "    : n_classes: Number of classes\n",
    "    : return: Tensor for label input.\n",
    "    \"\"\"\n",
    "    label_input = tf.placeholder(tf.float32, shape=[None, n_classes], name='y')\n",
    "    return label_input\n",
    "\n",
    "\n",
    "def neural_net_keep_prob_input():\n",
    "    \"\"\"\n",
    "    Return a Tensor for keep probability\n",
    "    : return: Tensor for keep probability.\n",
    "    \"\"\"\n",
    "    prob = tf.placeholder(tf.float32, name='keep_prob')\n",
    "    return prob\n",
    "\n",
    "\n",
    "\"\"\"\n",
    "DON'T MODIFY ANYTHING IN THIS CELL THAT IS BELOW THIS LINE\n",
    "\"\"\"\n",
    "tf.reset_default_graph()\n",
    "tests.test_nn_image_inputs(neural_net_image_input)\n",
    "tests.test_nn_label_inputs(neural_net_label_input)\n",
    "tests.test_nn_keep_prob_inputs(neural_net_keep_prob_input)"
   ]
  },
  {
   "cell_type": "markdown",
   "metadata": {
    "deletable": true,
    "editable": true
   },
   "source": [
    "### Convolution and Max Pooling Layer\n",
    "Convolution layers have a lot of success with images. For this code cell, you should implement the function `conv2d_maxpool` to apply convolution then max pooling:\n",
    "* Create the weight and bias using `conv_ksize`, `conv_num_outputs` and the shape of `x_tensor`.\n",
    "* Apply a convolution to `x_tensor` using weight and `conv_strides`.\n",
    " * We recommend you use same padding, but you're welcome to use any padding.\n",
    "* Add bias\n",
    "* Add a nonlinear activation to the convolution.\n",
    "* Apply Max Pooling using `pool_ksize` and `pool_strides`.\n",
    " * We recommend you use same padding, but you're welcome to use any padding.\n",
    "\n",
    "**Note:** You **can't** use [TensorFlow Layers](https://www.tensorflow.org/api_docs/python/tf/layers) or [TensorFlow Layers (contrib)](https://www.tensorflow.org/api_guides/python/contrib.layers) for **this** layer, but you can still use TensorFlow's [Neural Network](https://www.tensorflow.org/api_docs/python/tf/nn) package. You may still use the shortcut option for all the **other** layers."
   ]
  },
  {
   "cell_type": "code",
   "execution_count": 56,
   "metadata": {
    "collapsed": false,
    "deletable": true,
    "editable": true
   },
   "outputs": [
    {
     "name": "stdout",
     "output_type": "stream",
     "text": [
      "Tests Passed\n"
     ]
    }
   ],
   "source": [
    "def conv2d_maxpool(x_tensor, conv_num_outputs, conv_ksize, conv_strides, pool_ksize, pool_strides):\n",
    "    \"\"\"\n",
    "    Apply convolution then max pooling to x_tensor\n",
    "    :param x_tensor: TensorFlow Tensor\n",
    "    :param conv_num_outputs: Number of outputs for the convolutional layer\n",
    "    :param conv_ksize: kernal size 2-D Tuple for the convolutional layer\n",
    "    :param conv_strides: Stride 2-D Tuple for convolution\n",
    "    :param pool_ksize: kernal size 2-D Tuple for pool\n",
    "    :param pool_strides: Stride 2-D Tuple for pool\n",
    "    : return: A tensor that represents convolution and max pooling of x_tensor\n",
    "    \"\"\"\n",
    "    \n",
    "    shape = x_tensor.shape.as_list()\n",
    "    weights = tf.Variable(tf.truncated_normal([conv_ksize[0], conv_ksize[1], shape[3], conv_num_outputs],stddev=0.05, mean=0))\n",
    "    bias = tf.Variable(tf.zeros(conv_num_outputs))\n",
    "    \n",
    "    conv_max_pool = tf.nn.conv2d(x_tensor,weights, strides=[1, conv_strides[0], conv_strides[1], 1], padding='SAME') \n",
    "    conv_max_pool = tf.nn.bias_add(conv_max_pool, bias)\n",
    "    conv_max_pool = tf.nn.relu(conv_max_pool)    \n",
    "    conv_max_pool = tf.nn.max_pool(conv_max_pool, ksize=[1, pool_ksize[0], pool_ksize[1], 1], strides = [1, pool_strides[0], pool_strides[1], 1], padding='SAME')\n",
    "    \n",
    "    return conv_max_pool \n",
    "\n",
    "\n",
    "\"\"\"\n",
    "DON'T MODIFY ANYTHING IN THIS CELL THAT IS BELOW THIS LINE\n",
    "\"\"\"\n",
    "tests.test_con_pool(conv2d_maxpool)"
   ]
  },
  {
   "cell_type": "markdown",
   "metadata": {
    "deletable": true,
    "editable": true
   },
   "source": [
    "### Flatten Layer\n",
    "Implement the `flatten` function to change the dimension of `x_tensor` from a 4-D tensor to a 2-D tensor.  The output should be the shape (*Batch Size*, *Flattened Image Size*). Shortcut option: you can use classes from the [TensorFlow Layers](https://www.tensorflow.org/api_docs/python/tf/layers) or [TensorFlow Layers (contrib)](https://www.tensorflow.org/api_guides/python/contrib.layers) packages for this layer. For more of a challenge, only use other TensorFlow packages."
   ]
  },
  {
   "cell_type": "code",
   "execution_count": 57,
   "metadata": {
    "collapsed": false,
    "deletable": true,
    "editable": true
   },
   "outputs": [
    {
     "name": "stdout",
     "output_type": "stream",
     "text": [
      "Tests Passed\n"
     ]
    }
   ],
   "source": [
    "def flatten(x_tensor):\n",
    "    \"\"\"\n",
    "    Flatten x_tensor to (Batch Size, Flattened Image Size)\n",
    "    : x_tensor: A tensor of size (Batch Size, ...), where ... are the image dimensions.\n",
    "    : return: A tensor of size (Batch Size, Flattened Image Size).\n",
    "    \"\"\"\n",
    "    f = x_tensor.get_shape().as_list()\n",
    "    dim = int(f[1] * f[2] * f[3])\n",
    "        \n",
    "    flatten = tf.reshape(x_tensor,[-1,dim])\n",
    "    return flatten\n",
    "\n",
    "\n",
    "\"\"\"\n",
    "DON'T MODIFY ANYTHING IN THIS CELL THAT IS BELOW THIS LINE\n",
    "\"\"\"\n",
    "tests.test_flatten(flatten)"
   ]
  },
  {
   "cell_type": "markdown",
   "metadata": {
    "deletable": true,
    "editable": true
   },
   "source": [
    "### Fully-Connected Layer\n",
    "Implement the `fully_conn` function to apply a fully connected layer to `x_tensor` with the shape (*Batch Size*, *num_outputs*). Shortcut option: you can use classes from the [TensorFlow Layers](https://www.tensorflow.org/api_docs/python/tf/layers) or [TensorFlow Layers (contrib)](https://www.tensorflow.org/api_guides/python/contrib.layers) packages for this layer. For more of a challenge, only use other TensorFlow packages."
   ]
  },
  {
   "cell_type": "code",
   "execution_count": 58,
   "metadata": {
    "collapsed": false,
    "deletable": true,
    "editable": true
   },
   "outputs": [
    {
     "name": "stdout",
     "output_type": "stream",
     "text": [
      "Tests Passed\n"
     ]
    }
   ],
   "source": [
    "def fully_conn(x_tensor, num_outputs):\n",
    "    \"\"\"\n",
    "    Apply a fully connected layer to x_tensor using weight and bias\n",
    "    : x_tensor: A 2-D tensor where the first dimension is batch size.\n",
    "    : num_outputs: The number of output that the new tensor should be.\n",
    "    : return: A 2-D tensor where the second dimension is num_outputs.\n",
    "    \"\"\"\n",
    "    \n",
    "    fully_conn = tf.contrib.layers.fully_connected(x_tensor, num_outputs)\n",
    "    return fully_conn\n",
    "\n",
    "\n",
    "\"\"\"\n",
    "DON'T MODIFY ANYTHING IN THIS CELL THAT IS BELOW THIS LINE\n",
    "\"\"\"\n",
    "tests.test_fully_conn(fully_conn)"
   ]
  },
  {
   "cell_type": "markdown",
   "metadata": {
    "deletable": true,
    "editable": true
   },
   "source": [
    "### Output Layer\n",
    "Implement the `output` function to apply a fully connected layer to `x_tensor` with the shape (*Batch Size*, *num_outputs*). Shortcut option: you can use classes from the [TensorFlow Layers](https://www.tensorflow.org/api_docs/python/tf/layers) or [TensorFlow Layers (contrib)](https://www.tensorflow.org/api_guides/python/contrib.layers) packages for this layer. For more of a challenge, only use other TensorFlow packages.\n",
    "\n",
    "**Note:** Activation, softmax, or cross entropy should **not** be applied to this."
   ]
  },
  {
   "cell_type": "code",
   "execution_count": 59,
   "metadata": {
    "collapsed": false,
    "deletable": true,
    "editable": true
   },
   "outputs": [
    {
     "name": "stdout",
     "output_type": "stream",
     "text": [
      "Tests Passed\n"
     ]
    }
   ],
   "source": [
    "def output(x_tensor, num_outputs):\n",
    "    \"\"\"\n",
    "    Apply a output layer to x_tensor using weight and bias\n",
    "    : x_tensor: A 2-D tensor where the first dimension is batch size.\n",
    "    : num_outputs: The number of output that the new tensor should be.\n",
    "    : return: A 2-D tensor where the second dimension is num_outputs.\n",
    "    \"\"\"\n",
    "    output = tf.contrib.layers.fully_connected(x_tensor, num_outputs, activation_fn=None)\n",
    "    return output\n",
    "\n",
    "\n",
    "\"\"\"\n",
    "DON'T MODIFY ANYTHING IN THIS CELL THAT IS BELOW THIS LINE\n",
    "\"\"\"\n",
    "tests.test_output(output)"
   ]
  },
  {
   "cell_type": "markdown",
   "metadata": {
    "deletable": true,
    "editable": true
   },
   "source": [
    "### Create Convolutional Model\n",
    "Implement the function `conv_net` to create a convolutional neural network model. The function takes in a batch of images, `x`, and outputs logits.  Use the layers you created above to create this model:\n",
    "\n",
    "* Apply 1, 2, or 3 Convolution and Max Pool layers\n",
    "* Apply a Flatten Layer\n",
    "* Apply 1, 2, or 3 Fully Connected Layers\n",
    "* Apply an Output Layer\n",
    "* Return the output\n",
    "* Apply [TensorFlow's Dropout](https://www.tensorflow.org/api_docs/python/tf/nn/dropout) to one or more layers in the model using `keep_prob`. "
   ]
  },
  {
   "cell_type": "code",
   "execution_count": 60,
   "metadata": {
    "collapsed": false,
    "deletable": true,
    "editable": true
   },
   "outputs": [
    {
     "name": "stdout",
     "output_type": "stream",
     "text": [
      "Neural Network Built!\n"
     ]
    }
   ],
   "source": [
    "def conv_net(x, keep_prob):\n",
    "    \"\"\"\n",
    "    Create a convolutional neural network model\n",
    "    : x: Placeholder tensor that holds image data.\n",
    "    : keep_prob: Placeholder tensor that hold dropout keep probability.\n",
    "    : return: Tensor that represents logits\n",
    "    \"\"\"\n",
    "    # Apply 1, 2, or 3 Convolution and Max Pool layers\n",
    "    #    Play around with different number of outputs, kernel size and stride\n",
    "    # Function Definition from Above:\n",
    "    #    conv2d_maxpool(x_tensor, conv_num_outputs, conv_ksize, conv_strides, pool_ksize, pool_strides)\n",
    "   \n",
    "    # Layer 1\n",
    "    conv_num_outputs = 16\n",
    "    conv_ksize =  (16,16)\n",
    "    conv_strides = (2,2)\n",
    "    pool_ksize = (16,16)\n",
    "    pool_strides = (2,2)\n",
    "    conv = conv2d_maxpool(x, conv_num_outputs, conv_ksize, conv_strides, pool_ksize, pool_strides)\n",
    "\n",
    "     # Layer 2\n",
    "    conv_num_outputs = 16\n",
    "    conv_ksize =  (8,8)\n",
    "    conv_strides = (2,2)\n",
    "    pool_ksize = (8,8)\n",
    "    pool_strides = (2,2)\n",
    "    conv = conv2d_maxpool(x, conv_num_outputs, conv_ksize, conv_strides, pool_ksize, pool_strides)\n",
    "\n",
    "     # Layer 3\n",
    "    conv_num_outputs = 32\n",
    "    conv_ksize =  (4,4)\n",
    "    conv_strides = (2,2)\n",
    "    pool_ksize = (4,4)\n",
    "    pool_strides = (2,2)\n",
    "    conv = conv2d_maxpool(x, conv_num_outputs, conv_ksize, conv_strides, pool_ksize, pool_strides)\n",
    "\n",
    "    \n",
    "    # Apply a Flatten Layer\n",
    "    # Function Definition from Above:\n",
    "    #   flatten(x_tensor)\n",
    "    flatten_layer = flatten(conv)\n",
    "\n",
    "    # Apply 1, 2, or 3 Fully Connected Layers\n",
    "    #    Play around with different number of outputs\n",
    "    # Function Definition from Above:\n",
    "    #   fully_conn(x_tensor, num_outputs)\n",
    "    fc = fully_conn(flatten_layer, 32)\n",
    "    fc = tf.nn.dropout(fc, keep_prob)\n",
    "    fc = fully_conn(flatten_layer, 16)\n",
    "    fc = tf.nn.dropout(fc, keep_prob)\n",
    "    \n",
    "    # Apply an Output Layer\n",
    "    #    Set this to the number of classes\n",
    "    # Function Definition from Above:\n",
    "    #   output(x_tensor, num_outputs)\n",
    "    # Return output\n",
    "    return output(fc,10)\n",
    "\n",
    "\n",
    "\"\"\"\n",
    "DON'T MODIFY ANYTHING IN THIS CELL THAT IS BELOW THIS LINE\n",
    "\"\"\"\n",
    "\n",
    "##############################\n",
    "## Build the Neural Network ##\n",
    "##############################\n",
    "\n",
    "# Remove previous weights, bias, inputs, etc..\n",
    "tf.reset_default_graph()\n",
    "\n",
    "# Inputs\n",
    "x = neural_net_image_input((32, 32, 3))\n",
    "y = neural_net_label_input(10)\n",
    "keep_prob = neural_net_keep_prob_input()\n",
    "\n",
    "# Model\n",
    "logits = conv_net(x, keep_prob)\n",
    "\n",
    "# Name logits Tensor, so that is can be loaded from disk after training\n",
    "logits = tf.identity(logits, name='logits')\n",
    "\n",
    "# Loss and Optimizer\n",
    "cost = tf.reduce_mean(tf.nn.softmax_cross_entropy_with_logits(logits=logits, labels=y))\n",
    "optimizer = tf.train.AdamOptimizer().minimize(cost)\n",
    "\n",
    "# Accuracy\n",
    "correct_pred = tf.equal(tf.argmax(logits, 1), tf.argmax(y, 1))\n",
    "accuracy = tf.reduce_mean(tf.cast(correct_pred, tf.float32), name='accuracy')\n",
    "\n",
    "tests.test_conv_net(conv_net)"
   ]
  },
  {
   "cell_type": "markdown",
   "metadata": {
    "deletable": true,
    "editable": true
   },
   "source": [
    "## Train the Neural Network\n",
    "### Single Optimization\n",
    "Implement the function `train_neural_network` to do a single optimization.  The optimization should use `optimizer` to optimize in `session` with a `feed_dict` of the following:\n",
    "* `x` for image input\n",
    "* `y` for labels\n",
    "* `keep_prob` for keep probability for dropout\n",
    "\n",
    "This function will be called for each batch, so `tf.global_variables_initializer()` has already been called.\n",
    "\n",
    "Note: Nothing needs to be returned. This function is only optimizing the neural network."
   ]
  },
  {
   "cell_type": "code",
   "execution_count": 68,
   "metadata": {
    "collapsed": false,
    "deletable": true,
    "editable": true
   },
   "outputs": [
    {
     "name": "stdout",
     "output_type": "stream",
     "text": [
      "Tests Passed\n"
     ]
    }
   ],
   "source": [
    "def train_neural_network(session, optimizer, keep_probability, feature_batch, label_batch):\n",
    "    \"\"\"\n",
    "    Optimize the session on a batch of images and labels\n",
    "    : session: Current TensorFlow session\n",
    "    : optimizer: TensorFlow optimizer function\n",
    "    : keep_probability: keep probability\n",
    "    : feature_batch: Batch of Numpy image data\n",
    "    : label_batch: Batch of Numpy label data\n",
    "    \"\"\"\n",
    "    session.run(optimizer, feed_dict={x: feature_batch,y : label_batch, keep_prob: keep_probability})\n",
    "\n",
    "\n",
    "\"\"\"\n",
    "DON'T MODIFY ANYTHING IN THIS CELL THAT IS BELOW THIS LINE\n",
    "\"\"\"\n",
    "tests.test_train_nn(train_neural_network)"
   ]
  },
  {
   "cell_type": "markdown",
   "metadata": {
    "deletable": true,
    "editable": true
   },
   "source": [
    "### Show Stats\n",
    "Implement the function `print_stats` to print loss and validation accuracy.  Use the global variables `valid_features` and `valid_labels` to calculate validation accuracy.  Use a keep probability of `1.0` to calculate the loss and validation accuracy."
   ]
  },
  {
   "cell_type": "code",
   "execution_count": 69,
   "metadata": {
    "collapsed": false,
    "deletable": true,
    "editable": true
   },
   "outputs": [],
   "source": [
    "def print_stats(session, feature_batch, label_batch, cost, accuracy):\n",
    "    \"\"\"\n",
    "    Print information about loss and validation accuracy\n",
    "    : session: Current TensorFlow session\n",
    "    : feature_batch: Batch of Numpy image data\n",
    "    : label_batch: Batch of Numpy label data\n",
    "    : cost: TensorFlow cost function\n",
    "    : accuracy: TensorFlow accuracy function\n",
    "    \"\"\"\n",
    "    loss = session.run(cost, feed_dict={x: feature_batch, y: label_batch, keep_prob: 1.})\n",
    "    valid_accuracy = session.run(accuracy, feed_dict={x: valid_features, y: valid_labels, keep_prob: 1.})\n",
    "    print(\"Loss: {:>10.4f} Validation Accuracy: {:0.6f}\".format(loss,valid_accuracy))"
   ]
  },
  {
   "cell_type": "markdown",
   "metadata": {
    "deletable": true,
    "editable": true
   },
   "source": [
    "### Hyperparameters\n",
    "Tune the following parameters:\n",
    "* Set `epochs` to the number of iterations until the network stops learning or start overfitting\n",
    "* Set `batch_size` to the highest number that your machine has memory for.  Most people set them to common sizes of memory:\n",
    " * 64\n",
    " * 128\n",
    " * 256\n",
    " * ...\n",
    "* Set `keep_probability` to the probability of keeping a node using dropout"
   ]
  },
  {
   "cell_type": "code",
   "execution_count": 75,
   "metadata": {
    "collapsed": true,
    "deletable": true,
    "editable": true
   },
   "outputs": [],
   "source": [
    "# Tune Parameters\n",
    "epochs = 100\n",
    "batch_size = 256\n",
    "keep_probability = 0.8"
   ]
  },
  {
   "cell_type": "markdown",
   "metadata": {
    "deletable": true,
    "editable": true
   },
   "source": [
    "### Train on a Single CIFAR-10 Batch\n",
    "Instead of training the neural network on all the CIFAR-10 batches of data, let's use a single batch. This should save time while you iterate on the model to get a better accuracy.  Once the final validation accuracy is 50% or greater, run the model on all the data in the next section."
   ]
  },
  {
   "cell_type": "code",
   "execution_count": 76,
   "metadata": {
    "collapsed": false,
    "deletable": true,
    "editable": true
   },
   "outputs": [
    {
     "name": "stdout",
     "output_type": "stream",
     "text": [
      "Checking the Training on a Single Batch...\n",
      "Epoch  1, CIFAR-10 Batch 1:  Loss:     2.2314 Validation Accuracy: 0.170600\n",
      "Epoch  2, CIFAR-10 Batch 1:  Loss:     2.1620 Validation Accuracy: 0.221400\n",
      "Epoch  3, CIFAR-10 Batch 1:  Loss:     2.0559 Validation Accuracy: 0.269000\n",
      "Epoch  4, CIFAR-10 Batch 1:  Loss:     1.9799 Validation Accuracy: 0.316200\n",
      "Epoch  5, CIFAR-10 Batch 1:  Loss:     1.8982 Validation Accuracy: 0.329600\n",
      "Epoch  6, CIFAR-10 Batch 1:  Loss:     1.8677 Validation Accuracy: 0.349000\n",
      "Epoch  7, CIFAR-10 Batch 1:  Loss:     1.7920 Validation Accuracy: 0.368000\n",
      "Epoch  8, CIFAR-10 Batch 1:  Loss:     1.7007 Validation Accuracy: 0.395800\n",
      "Epoch  9, CIFAR-10 Batch 1:  Loss:     1.6691 Validation Accuracy: 0.400600\n",
      "Epoch 10, CIFAR-10 Batch 1:  Loss:     1.6343 Validation Accuracy: 0.414800\n",
      "Epoch 11, CIFAR-10 Batch 1:  Loss:     1.5748 Validation Accuracy: 0.428000\n",
      "Epoch 12, CIFAR-10 Batch 1:  Loss:     1.5538 Validation Accuracy: 0.437000\n",
      "Epoch 13, CIFAR-10 Batch 1:  Loss:     1.5272 Validation Accuracy: 0.433600\n",
      "Epoch 14, CIFAR-10 Batch 1:  Loss:     1.4958 Validation Accuracy: 0.439000\n",
      "Epoch 15, CIFAR-10 Batch 1:  Loss:     1.4559 Validation Accuracy: 0.452000\n",
      "Epoch 16, CIFAR-10 Batch 1:  Loss:     1.4458 Validation Accuracy: 0.455600\n",
      "Epoch 17, CIFAR-10 Batch 1:  Loss:     1.4162 Validation Accuracy: 0.453200\n",
      "Epoch 18, CIFAR-10 Batch 1:  Loss:     1.3913 Validation Accuracy: 0.459000\n",
      "Epoch 19, CIFAR-10 Batch 1:  Loss:     1.3917 Validation Accuracy: 0.457800\n",
      "Epoch 20, CIFAR-10 Batch 1:  Loss:     1.3917 Validation Accuracy: 0.462000\n",
      "Epoch 21, CIFAR-10 Batch 1:  Loss:     1.3476 Validation Accuracy: 0.471200\n",
      "Epoch 22, CIFAR-10 Batch 1:  Loss:     1.3451 Validation Accuracy: 0.469200\n",
      "Epoch 23, CIFAR-10 Batch 1:  Loss:     1.3109 Validation Accuracy: 0.466400\n",
      "Epoch 24, CIFAR-10 Batch 1:  Loss:     1.3146 Validation Accuracy: 0.475400\n",
      "Epoch 25, CIFAR-10 Batch 1:  Loss:     1.3161 Validation Accuracy: 0.467600\n",
      "Epoch 26, CIFAR-10 Batch 1:  Loss:     1.2983 Validation Accuracy: 0.473800\n",
      "Epoch 27, CIFAR-10 Batch 1:  Loss:     1.2532 Validation Accuracy: 0.480800\n",
      "Epoch 28, CIFAR-10 Batch 1:  Loss:     1.2542 Validation Accuracy: 0.477000\n",
      "Epoch 29, CIFAR-10 Batch 1:  Loss:     1.2570 Validation Accuracy: 0.483600\n",
      "Epoch 30, CIFAR-10 Batch 1:  Loss:     1.2345 Validation Accuracy: 0.483200\n",
      "Epoch 31, CIFAR-10 Batch 1:  Loss:     1.2243 Validation Accuracy: 0.487000\n",
      "Epoch 32, CIFAR-10 Batch 1:  Loss:     1.1967 Validation Accuracy: 0.496000\n",
      "Epoch 33, CIFAR-10 Batch 1:  Loss:     1.1945 Validation Accuracy: 0.489600\n",
      "Epoch 34, CIFAR-10 Batch 1:  Loss:     1.1870 Validation Accuracy: 0.493000\n",
      "Epoch 35, CIFAR-10 Batch 1:  Loss:     1.1833 Validation Accuracy: 0.494400\n",
      "Epoch 36, CIFAR-10 Batch 1:  Loss:     1.1786 Validation Accuracy: 0.497000\n",
      "Epoch 37, CIFAR-10 Batch 1:  Loss:     1.1459 Validation Accuracy: 0.501600\n",
      "Epoch 38, CIFAR-10 Batch 1:  Loss:     1.1403 Validation Accuracy: 0.487400\n",
      "Epoch 39, CIFAR-10 Batch 1:  Loss:     1.1251 Validation Accuracy: 0.501200\n",
      "Epoch 40, CIFAR-10 Batch 1:  Loss:     1.0999 Validation Accuracy: 0.503200\n",
      "Epoch 41, CIFAR-10 Batch 1:  Loss:     1.0956 Validation Accuracy: 0.505200\n",
      "Epoch 42, CIFAR-10 Batch 1:  Loss:     1.0898 Validation Accuracy: 0.503000\n",
      "Epoch 43, CIFAR-10 Batch 1:  Loss:     1.0753 Validation Accuracy: 0.506000\n",
      "Epoch 44, CIFAR-10 Batch 1:  Loss:     1.0597 Validation Accuracy: 0.503200\n",
      "Epoch 45, CIFAR-10 Batch 1:  Loss:     1.0754 Validation Accuracy: 0.496200\n",
      "Epoch 46, CIFAR-10 Batch 1:  Loss:     1.0546 Validation Accuracy: 0.505600\n",
      "Epoch 47, CIFAR-10 Batch 1:  Loss:     1.0503 Validation Accuracy: 0.503800\n",
      "Epoch 48, CIFAR-10 Batch 1:  Loss:     1.0458 Validation Accuracy: 0.498800\n",
      "Epoch 49, CIFAR-10 Batch 1:  Loss:     1.0445 Validation Accuracy: 0.495000\n",
      "Epoch 50, CIFAR-10 Batch 1:  Loss:     1.0397 Validation Accuracy: 0.502400\n",
      "Epoch 51, CIFAR-10 Batch 1:  Loss:     1.0099 Validation Accuracy: 0.503600\n",
      "Epoch 52, CIFAR-10 Batch 1:  Loss:     1.0070 Validation Accuracy: 0.504200\n",
      "Epoch 53, CIFAR-10 Batch 1:  Loss:     1.0102 Validation Accuracy: 0.494800\n",
      "Epoch 54, CIFAR-10 Batch 1:  Loss:     0.9807 Validation Accuracy: 0.502600\n",
      "Epoch 55, CIFAR-10 Batch 1:  Loss:     0.9887 Validation Accuracy: 0.510200\n",
      "Epoch 56, CIFAR-10 Batch 1:  Loss:     0.9757 Validation Accuracy: 0.510200\n",
      "Epoch 57, CIFAR-10 Batch 1:  Loss:     0.9943 Validation Accuracy: 0.493400\n",
      "Epoch 58, CIFAR-10 Batch 1:  Loss:     0.9642 Validation Accuracy: 0.504600\n",
      "Epoch 59, CIFAR-10 Batch 1:  Loss:     0.9555 Validation Accuracy: 0.513000\n",
      "Epoch 60, CIFAR-10 Batch 1:  Loss:     0.9503 Validation Accuracy: 0.517000\n",
      "Epoch 61, CIFAR-10 Batch 1:  Loss:     0.9266 Validation Accuracy: 0.516400\n",
      "Epoch 62, CIFAR-10 Batch 1:  Loss:     0.9268 Validation Accuracy: 0.511800\n",
      "Epoch 63, CIFAR-10 Batch 1:  Loss:     0.9427 Validation Accuracy: 0.505200\n",
      "Epoch 64, CIFAR-10 Batch 1:  Loss:     0.9336 Validation Accuracy: 0.510200\n",
      "Epoch 65, CIFAR-10 Batch 1:  Loss:     0.9105 Validation Accuracy: 0.514600\n",
      "Epoch 66, CIFAR-10 Batch 1:  Loss:     0.9207 Validation Accuracy: 0.510000\n",
      "Epoch 67, CIFAR-10 Batch 1:  Loss:     0.9163 Validation Accuracy: 0.514400\n",
      "Epoch 68, CIFAR-10 Batch 1:  Loss:     0.9184 Validation Accuracy: 0.511400\n",
      "Epoch 69, CIFAR-10 Batch 1:  Loss:     0.9246 Validation Accuracy: 0.505600\n",
      "Epoch 70, CIFAR-10 Batch 1:  Loss:     0.9151 Validation Accuracy: 0.512000\n",
      "Epoch 71, CIFAR-10 Batch 1:  Loss:     0.9132 Validation Accuracy: 0.507400\n",
      "Epoch 72, CIFAR-10 Batch 1:  Loss:     0.8968 Validation Accuracy: 0.514200\n",
      "Epoch 73, CIFAR-10 Batch 1:  Loss:     0.8905 Validation Accuracy: 0.515800\n",
      "Epoch 74, CIFAR-10 Batch 1:  Loss:     0.9030 Validation Accuracy: 0.509000\n",
      "Epoch 75, CIFAR-10 Batch 1:  Loss:     0.8704 Validation Accuracy: 0.516400\n",
      "Epoch 76, CIFAR-10 Batch 1:  Loss:     0.8731 Validation Accuracy: 0.516600\n",
      "Epoch 77, CIFAR-10 Batch 1:  Loss:     0.8777 Validation Accuracy: 0.503600\n",
      "Epoch 78, CIFAR-10 Batch 1:  Loss:     0.8778 Validation Accuracy: 0.504400\n",
      "Epoch 79, CIFAR-10 Batch 1:  Loss:     0.8565 Validation Accuracy: 0.511200\n",
      "Epoch 80, CIFAR-10 Batch 1:  Loss:     0.8494 Validation Accuracy: 0.515400\n",
      "Epoch 81, CIFAR-10 Batch 1:  Loss:     0.8467 Validation Accuracy: 0.511200\n",
      "Epoch 82, CIFAR-10 Batch 1:  Loss:     0.8455 Validation Accuracy: 0.512400\n",
      "Epoch 83, CIFAR-10 Batch 1:  Loss:     0.8593 Validation Accuracy: 0.498000\n",
      "Epoch 84, CIFAR-10 Batch 1:  Loss:     0.8428 Validation Accuracy: 0.512200\n",
      "Epoch 85, CIFAR-10 Batch 1:  Loss:     0.8423 Validation Accuracy: 0.511800\n",
      "Epoch 86, CIFAR-10 Batch 1:  Loss:     0.8342 Validation Accuracy: 0.509600\n",
      "Epoch 87, CIFAR-10 Batch 1:  Loss:     0.8317 Validation Accuracy: 0.507600\n",
      "Epoch 88, CIFAR-10 Batch 1:  Loss:     0.8457 Validation Accuracy: 0.504400\n",
      "Epoch 89, CIFAR-10 Batch 1:  Loss:     0.8262 Validation Accuracy: 0.514000\n",
      "Epoch 90, CIFAR-10 Batch 1:  Loss:     0.8708 Validation Accuracy: 0.494200\n",
      "Epoch 91, CIFAR-10 Batch 1:  Loss:     0.8461 Validation Accuracy: 0.509400\n",
      "Epoch 92, CIFAR-10 Batch 1:  Loss:     0.8205 Validation Accuracy: 0.512400\n",
      "Epoch 93, CIFAR-10 Batch 1:  Loss:     0.8160 Validation Accuracy: 0.510600\n",
      "Epoch 94, CIFAR-10 Batch 1:  Loss:     0.8077 Validation Accuracy: 0.509600\n",
      "Epoch 95, CIFAR-10 Batch 1:  Loss:     0.8177 Validation Accuracy: 0.513400\n",
      "Epoch 96, CIFAR-10 Batch 1:  Loss:     0.8120 Validation Accuracy: 0.513200\n",
      "Epoch 97, CIFAR-10 Batch 1:  Loss:     0.8072 Validation Accuracy: 0.507800\n",
      "Epoch 98, CIFAR-10 Batch 1:  Loss:     0.8125 Validation Accuracy: 0.506000\n",
      "Epoch 99, CIFAR-10 Batch 1:  Loss:     0.8159 Validation Accuracy: 0.502000\n",
      "Epoch 100, CIFAR-10 Batch 1:  Loss:     0.8132 Validation Accuracy: 0.497800\n"
     ]
    }
   ],
   "source": [
    "\"\"\"\n",
    "DON'T MODIFY ANYTHING IN THIS CELL\n",
    "\"\"\"\n",
    "print('Checking the Training on a Single Batch...')\n",
    "with tf.Session() as sess:\n",
    "    # Initializing the variables\n",
    "    sess.run(tf.global_variables_initializer())\n",
    "    \n",
    "    # Training cycle\n",
    "    for epoch in range(epochs):\n",
    "        batch_i = 1\n",
    "        for batch_features, batch_labels in helper.load_preprocess_training_batch(batch_i, batch_size):\n",
    "            train_neural_network(sess, optimizer, keep_probability, batch_features, batch_labels)\n",
    "        print('Epoch {:>2}, CIFAR-10 Batch {}:  '.format(epoch + 1, batch_i), end='')\n",
    "        print_stats(sess, batch_features, batch_labels, cost, accuracy)"
   ]
  },
  {
   "cell_type": "markdown",
   "metadata": {
    "deletable": true,
    "editable": true
   },
   "source": [
    "### Fully Train the Model\n",
    "Now that you got a good accuracy with a single CIFAR-10 batch, try it with all five batches."
   ]
  },
  {
   "cell_type": "code",
   "execution_count": 77,
   "metadata": {
    "collapsed": false,
    "deletable": true,
    "editable": true
   },
   "outputs": [
    {
     "name": "stdout",
     "output_type": "stream",
     "text": [
      "Training...\n",
      "Epoch  1, CIFAR-10 Batch 1:  Loss:     2.0980 Validation Accuracy: 0.229000\n",
      "Epoch  1, CIFAR-10 Batch 2:  Loss:     1.9993 Validation Accuracy: 0.310200\n",
      "Epoch  1, CIFAR-10 Batch 3:  Loss:     1.8151 Validation Accuracy: 0.357400\n",
      "Epoch  1, CIFAR-10 Batch 4:  Loss:     1.7978 Validation Accuracy: 0.364000\n",
      "Epoch  1, CIFAR-10 Batch 5:  Loss:     1.7427 Validation Accuracy: 0.403200\n",
      "Epoch  2, CIFAR-10 Batch 1:  Loss:     1.8250 Validation Accuracy: 0.411000\n",
      "Epoch  2, CIFAR-10 Batch 2:  Loss:     1.6256 Validation Accuracy: 0.415800\n",
      "Epoch  2, CIFAR-10 Batch 3:  Loss:     1.5237 Validation Accuracy: 0.421400\n",
      "Epoch  2, CIFAR-10 Batch 4:  Loss:     1.5800 Validation Accuracy: 0.431400\n",
      "Epoch  2, CIFAR-10 Batch 5:  Loss:     1.5722 Validation Accuracy: 0.456000\n",
      "Epoch  3, CIFAR-10 Batch 1:  Loss:     1.6995 Validation Accuracy: 0.438200\n",
      "Epoch  3, CIFAR-10 Batch 2:  Loss:     1.5072 Validation Accuracy: 0.460800\n",
      "Epoch  3, CIFAR-10 Batch 3:  Loss:     1.3393 Validation Accuracy: 0.467400\n",
      "Epoch  3, CIFAR-10 Batch 4:  Loss:     1.4913 Validation Accuracy: 0.474800\n",
      "Epoch  3, CIFAR-10 Batch 5:  Loss:     1.4464 Validation Accuracy: 0.482600\n",
      "Epoch  4, CIFAR-10 Batch 1:  Loss:     1.6026 Validation Accuracy: 0.464800\n",
      "Epoch  4, CIFAR-10 Batch 2:  Loss:     1.4187 Validation Accuracy: 0.485000\n",
      "Epoch  4, CIFAR-10 Batch 3:  Loss:     1.2290 Validation Accuracy: 0.497200\n",
      "Epoch  4, CIFAR-10 Batch 4:  Loss:     1.4227 Validation Accuracy: 0.498200\n",
      "Epoch  4, CIFAR-10 Batch 5:  Loss:     1.3548 Validation Accuracy: 0.501600\n",
      "Epoch  5, CIFAR-10 Batch 1:  Loss:     1.5436 Validation Accuracy: 0.489400\n",
      "Epoch  5, CIFAR-10 Batch 2:  Loss:     1.3068 Validation Accuracy: 0.511400\n",
      "Epoch  5, CIFAR-10 Batch 3:  Loss:     1.1488 Validation Accuracy: 0.516600\n",
      "Epoch  5, CIFAR-10 Batch 4:  Loss:     1.3905 Validation Accuracy: 0.513800\n",
      "Epoch  5, CIFAR-10 Batch 5:  Loss:     1.2952 Validation Accuracy: 0.518200\n",
      "Epoch  6, CIFAR-10 Batch 1:  Loss:     1.4907 Validation Accuracy: 0.504600\n",
      "Epoch  6, CIFAR-10 Batch 2:  Loss:     1.2378 Validation Accuracy: 0.511000\n",
      "Epoch  6, CIFAR-10 Batch 3:  Loss:     1.0974 Validation Accuracy: 0.516800\n",
      "Epoch  6, CIFAR-10 Batch 4:  Loss:     1.3236 Validation Accuracy: 0.527200\n",
      "Epoch  6, CIFAR-10 Batch 5:  Loss:     1.2399 Validation Accuracy: 0.534000\n",
      "Epoch  7, CIFAR-10 Batch 1:  Loss:     1.4305 Validation Accuracy: 0.505400\n",
      "Epoch  7, CIFAR-10 Batch 2:  Loss:     1.2082 Validation Accuracy: 0.527400\n",
      "Epoch  7, CIFAR-10 Batch 3:  Loss:     1.0388 Validation Accuracy: 0.534400\n",
      "Epoch  7, CIFAR-10 Batch 4:  Loss:     1.2871 Validation Accuracy: 0.537400\n",
      "Epoch  7, CIFAR-10 Batch 5:  Loss:     1.2040 Validation Accuracy: 0.540000\n",
      "Epoch  8, CIFAR-10 Batch 1:  Loss:     1.3994 Validation Accuracy: 0.526200\n",
      "Epoch  8, CIFAR-10 Batch 2:  Loss:     1.1649 Validation Accuracy: 0.525200\n",
      "Epoch  8, CIFAR-10 Batch 3:  Loss:     0.9893 Validation Accuracy: 0.534000\n",
      "Epoch  8, CIFAR-10 Batch 4:  Loss:     1.2442 Validation Accuracy: 0.541000\n",
      "Epoch  8, CIFAR-10 Batch 5:  Loss:     1.1534 Validation Accuracy: 0.547200\n",
      "Epoch  9, CIFAR-10 Batch 1:  Loss:     1.3900 Validation Accuracy: 0.525200\n",
      "Epoch  9, CIFAR-10 Batch 2:  Loss:     1.1409 Validation Accuracy: 0.534600\n",
      "Epoch  9, CIFAR-10 Batch 3:  Loss:     0.9892 Validation Accuracy: 0.536600\n",
      "Epoch  9, CIFAR-10 Batch 4:  Loss:     1.2242 Validation Accuracy: 0.554000\n",
      "Epoch  9, CIFAR-10 Batch 5:  Loss:     1.1151 Validation Accuracy: 0.553800\n",
      "Epoch 10, CIFAR-10 Batch 1:  Loss:     1.3542 Validation Accuracy: 0.556600\n",
      "Epoch 10, CIFAR-10 Batch 2:  Loss:     1.1203 Validation Accuracy: 0.544600\n",
      "Epoch 10, CIFAR-10 Batch 3:  Loss:     0.9436 Validation Accuracy: 0.552200\n",
      "Epoch 10, CIFAR-10 Batch 4:  Loss:     1.1878 Validation Accuracy: 0.552000\n",
      "Epoch 10, CIFAR-10 Batch 5:  Loss:     1.1015 Validation Accuracy: 0.561600\n",
      "Epoch 11, CIFAR-10 Batch 1:  Loss:     1.2977 Validation Accuracy: 0.544200\n",
      "Epoch 11, CIFAR-10 Batch 2:  Loss:     1.0674 Validation Accuracy: 0.553000\n",
      "Epoch 11, CIFAR-10 Batch 3:  Loss:     0.9181 Validation Accuracy: 0.554200\n",
      "Epoch 11, CIFAR-10 Batch 4:  Loss:     1.1427 Validation Accuracy: 0.557800\n",
      "Epoch 11, CIFAR-10 Batch 5:  Loss:     1.1008 Validation Accuracy: 0.563400\n",
      "Epoch 12, CIFAR-10 Batch 1:  Loss:     1.2733 Validation Accuracy: 0.538000\n",
      "Epoch 12, CIFAR-10 Batch 2:  Loss:     1.0415 Validation Accuracy: 0.568200\n",
      "Epoch 12, CIFAR-10 Batch 3:  Loss:     0.9155 Validation Accuracy: 0.561600\n",
      "Epoch 12, CIFAR-10 Batch 4:  Loss:     1.1112 Validation Accuracy: 0.570200\n",
      "Epoch 12, CIFAR-10 Batch 5:  Loss:     1.0564 Validation Accuracy: 0.572200\n",
      "Epoch 13, CIFAR-10 Batch 1:  Loss:     1.2283 Validation Accuracy: 0.557000\n",
      "Epoch 13, CIFAR-10 Batch 2:  Loss:     1.0173 Validation Accuracy: 0.571000\n",
      "Epoch 13, CIFAR-10 Batch 3:  Loss:     0.8670 Validation Accuracy: 0.562600\n",
      "Epoch 13, CIFAR-10 Batch 4:  Loss:     1.0958 Validation Accuracy: 0.562400\n",
      "Epoch 13, CIFAR-10 Batch 5:  Loss:     1.0442 Validation Accuracy: 0.577200\n",
      "Epoch 14, CIFAR-10 Batch 1:  Loss:     1.2555 Validation Accuracy: 0.555200\n",
      "Epoch 14, CIFAR-10 Batch 2:  Loss:     1.0130 Validation Accuracy: 0.571400\n",
      "Epoch 14, CIFAR-10 Batch 3:  Loss:     0.8822 Validation Accuracy: 0.563600\n",
      "Epoch 14, CIFAR-10 Batch 4:  Loss:     1.0693 Validation Accuracy: 0.563800\n",
      "Epoch 14, CIFAR-10 Batch 5:  Loss:     1.0224 Validation Accuracy: 0.571600\n",
      "Epoch 15, CIFAR-10 Batch 1:  Loss:     1.2185 Validation Accuracy: 0.570800\n",
      "Epoch 15, CIFAR-10 Batch 2:  Loss:     0.9994 Validation Accuracy: 0.574800\n",
      "Epoch 15, CIFAR-10 Batch 3:  Loss:     0.8383 Validation Accuracy: 0.569800\n",
      "Epoch 15, CIFAR-10 Batch 4:  Loss:     1.0253 Validation Accuracy: 0.577200\n",
      "Epoch 15, CIFAR-10 Batch 5:  Loss:     0.9791 Validation Accuracy: 0.577600\n",
      "Epoch 16, CIFAR-10 Batch 1:  Loss:     1.2039 Validation Accuracy: 0.560800\n",
      "Epoch 16, CIFAR-10 Batch 2:  Loss:     0.9625 Validation Accuracy: 0.568200\n",
      "Epoch 16, CIFAR-10 Batch 3:  Loss:     0.8774 Validation Accuracy: 0.565800\n",
      "Epoch 16, CIFAR-10 Batch 4:  Loss:     1.0073 Validation Accuracy: 0.566600\n",
      "Epoch 16, CIFAR-10 Batch 5:  Loss:     0.9936 Validation Accuracy: 0.582200\n",
      "Epoch 17, CIFAR-10 Batch 1:  Loss:     1.1775 Validation Accuracy: 0.568800\n",
      "Epoch 17, CIFAR-10 Batch 2:  Loss:     0.9498 Validation Accuracy: 0.584400\n",
      "Epoch 17, CIFAR-10 Batch 3:  Loss:     0.8095 Validation Accuracy: 0.574600\n",
      "Epoch 17, CIFAR-10 Batch 4:  Loss:     1.0155 Validation Accuracy: 0.578000\n",
      "Epoch 17, CIFAR-10 Batch 5:  Loss:     0.9579 Validation Accuracy: 0.589200\n",
      "Epoch 18, CIFAR-10 Batch 1:  Loss:     1.1142 Validation Accuracy: 0.570800\n",
      "Epoch 18, CIFAR-10 Batch 2:  Loss:     0.9370 Validation Accuracy: 0.590200\n",
      "Epoch 18, CIFAR-10 Batch 3:  Loss:     0.8011 Validation Accuracy: 0.578800\n",
      "Epoch 18, CIFAR-10 Batch 4:  Loss:     0.9888 Validation Accuracy: 0.590400\n",
      "Epoch 18, CIFAR-10 Batch 5:  Loss:     0.9329 Validation Accuracy: 0.591000\n",
      "Epoch 19, CIFAR-10 Batch 1:  Loss:     1.1222 Validation Accuracy: 0.571400\n",
      "Epoch 19, CIFAR-10 Batch 2:  Loss:     0.8858 Validation Accuracy: 0.583800\n",
      "Epoch 19, CIFAR-10 Batch 3:  Loss:     0.7646 Validation Accuracy: 0.582800\n",
      "Epoch 19, CIFAR-10 Batch 4:  Loss:     0.9734 Validation Accuracy: 0.585800\n",
      "Epoch 19, CIFAR-10 Batch 5:  Loss:     0.9220 Validation Accuracy: 0.593800\n",
      "Epoch 20, CIFAR-10 Batch 1:  Loss:     1.0989 Validation Accuracy: 0.569200\n",
      "Epoch 20, CIFAR-10 Batch 2:  Loss:     0.9085 Validation Accuracy: 0.581200\n",
      "Epoch 20, CIFAR-10 Batch 3:  Loss:     0.7788 Validation Accuracy: 0.574200\n",
      "Epoch 20, CIFAR-10 Batch 4:  Loss:     0.9523 Validation Accuracy: 0.589200\n",
      "Epoch 20, CIFAR-10 Batch 5:  Loss:     0.9194 Validation Accuracy: 0.596000\n",
      "Epoch 21, CIFAR-10 Batch 1:  Loss:     1.0720 Validation Accuracy: 0.581200\n",
      "Epoch 21, CIFAR-10 Batch 2:  Loss:     0.9038 Validation Accuracy: 0.589200\n",
      "Epoch 21, CIFAR-10 Batch 3:  Loss:     0.7595 Validation Accuracy: 0.587400\n",
      "Epoch 21, CIFAR-10 Batch 4:  Loss:     0.9186 Validation Accuracy: 0.598800\n",
      "Epoch 21, CIFAR-10 Batch 5:  Loss:     0.9353 Validation Accuracy: 0.594800\n",
      "Epoch 22, CIFAR-10 Batch 1:  Loss:     1.0567 Validation Accuracy: 0.559800\n",
      "Epoch 22, CIFAR-10 Batch 2:  Loss:     0.8535 Validation Accuracy: 0.599600\n",
      "Epoch 22, CIFAR-10 Batch 3:  Loss:     0.7524 Validation Accuracy: 0.584200\n",
      "Epoch 22, CIFAR-10 Batch 4:  Loss:     0.9246 Validation Accuracy: 0.596400\n",
      "Epoch 22, CIFAR-10 Batch 5:  Loss:     0.8723 Validation Accuracy: 0.603200\n",
      "Epoch 23, CIFAR-10 Batch 1:  Loss:     1.0452 Validation Accuracy: 0.588800\n",
      "Epoch 23, CIFAR-10 Batch 2:  Loss:     0.8313 Validation Accuracy: 0.595200\n",
      "Epoch 23, CIFAR-10 Batch 3:  Loss:     0.7242 Validation Accuracy: 0.594400\n",
      "Epoch 23, CIFAR-10 Batch 4:  Loss:     0.8906 Validation Accuracy: 0.598200\n",
      "Epoch 23, CIFAR-10 Batch 5:  Loss:     0.8677 Validation Accuracy: 0.602200\n",
      "Epoch 24, CIFAR-10 Batch 1:  Loss:     1.0203 Validation Accuracy: 0.584000\n",
      "Epoch 24, CIFAR-10 Batch 2:  Loss:     0.8162 Validation Accuracy: 0.590200\n",
      "Epoch 24, CIFAR-10 Batch 3:  Loss:     0.7203 Validation Accuracy: 0.593200\n",
      "Epoch 24, CIFAR-10 Batch 4:  Loss:     0.8796 Validation Accuracy: 0.585400\n",
      "Epoch 24, CIFAR-10 Batch 5:  Loss:     0.8746 Validation Accuracy: 0.610800\n",
      "Epoch 25, CIFAR-10 Batch 1:  Loss:     1.0004 Validation Accuracy: 0.596200\n",
      "Epoch 25, CIFAR-10 Batch 2:  Loss:     0.7960 Validation Accuracy: 0.593200\n",
      "Epoch 25, CIFAR-10 Batch 3:  Loss:     0.7273 Validation Accuracy: 0.595800\n",
      "Epoch 25, CIFAR-10 Batch 4:  Loss:     0.8590 Validation Accuracy: 0.604600\n",
      "Epoch 25, CIFAR-10 Batch 5:  Loss:     0.8553 Validation Accuracy: 0.609400\n",
      "Epoch 26, CIFAR-10 Batch 1:  Loss:     0.9981 Validation Accuracy: 0.603600\n",
      "Epoch 26, CIFAR-10 Batch 2:  Loss:     0.8208 Validation Accuracy: 0.592200\n",
      "Epoch 26, CIFAR-10 Batch 3:  Loss:     0.7180 Validation Accuracy: 0.584400\n",
      "Epoch 26, CIFAR-10 Batch 4:  Loss:     0.8443 Validation Accuracy: 0.608400\n",
      "Epoch 26, CIFAR-10 Batch 5:  Loss:     0.8317 Validation Accuracy: 0.610600\n",
      "Epoch 27, CIFAR-10 Batch 1:  Loss:     1.0102 Validation Accuracy: 0.598400\n",
      "Epoch 27, CIFAR-10 Batch 2:  Loss:     0.7969 Validation Accuracy: 0.601200\n",
      "Epoch 27, CIFAR-10 Batch 3:  Loss:     0.6975 Validation Accuracy: 0.600200\n",
      "Epoch 27, CIFAR-10 Batch 4:  Loss:     0.8437 Validation Accuracy: 0.605000\n",
      "Epoch 27, CIFAR-10 Batch 5:  Loss:     0.8136 Validation Accuracy: 0.609200\n",
      "Epoch 28, CIFAR-10 Batch 1:  Loss:     0.9681 Validation Accuracy: 0.603400\n",
      "Epoch 28, CIFAR-10 Batch 2:  Loss:     0.7794 Validation Accuracy: 0.607600\n",
      "Epoch 28, CIFAR-10 Batch 3:  Loss:     0.6764 Validation Accuracy: 0.605000\n",
      "Epoch 28, CIFAR-10 Batch 4:  Loss:     0.8261 Validation Accuracy: 0.611800\n",
      "Epoch 28, CIFAR-10 Batch 5:  Loss:     0.8176 Validation Accuracy: 0.599400\n",
      "Epoch 29, CIFAR-10 Batch 1:  Loss:     0.9591 Validation Accuracy: 0.586200\n",
      "Epoch 29, CIFAR-10 Batch 2:  Loss:     0.7587 Validation Accuracy: 0.598400\n",
      "Epoch 29, CIFAR-10 Batch 3:  Loss:     0.6719 Validation Accuracy: 0.593800\n",
      "Epoch 29, CIFAR-10 Batch 4:  Loss:     0.8292 Validation Accuracy: 0.603800\n",
      "Epoch 29, CIFAR-10 Batch 5:  Loss:     0.8047 Validation Accuracy: 0.611800\n",
      "Epoch 30, CIFAR-10 Batch 1:  Loss:     0.9176 Validation Accuracy: 0.606800\n",
      "Epoch 30, CIFAR-10 Batch 2:  Loss:     0.7593 Validation Accuracy: 0.608200\n",
      "Epoch 30, CIFAR-10 Batch 3:  Loss:     0.6613 Validation Accuracy: 0.600200\n",
      "Epoch 30, CIFAR-10 Batch 4:  Loss:     0.7866 Validation Accuracy: 0.604000\n",
      "Epoch 30, CIFAR-10 Batch 5:  Loss:     0.8158 Validation Accuracy: 0.603600\n",
      "Epoch 31, CIFAR-10 Batch 1:  Loss:     0.9526 Validation Accuracy: 0.597800\n",
      "Epoch 31, CIFAR-10 Batch 2:  Loss:     0.7695 Validation Accuracy: 0.596200\n",
      "Epoch 31, CIFAR-10 Batch 3:  Loss:     0.6424 Validation Accuracy: 0.609000\n",
      "Epoch 31, CIFAR-10 Batch 4:  Loss:     0.8221 Validation Accuracy: 0.603600\n",
      "Epoch 31, CIFAR-10 Batch 5:  Loss:     0.7933 Validation Accuracy: 0.608400\n",
      "Epoch 32, CIFAR-10 Batch 1:  Loss:     0.9314 Validation Accuracy: 0.597400\n",
      "Epoch 32, CIFAR-10 Batch 2:  Loss:     0.7670 Validation Accuracy: 0.605400\n",
      "Epoch 32, CIFAR-10 Batch 3:  Loss:     0.6131 Validation Accuracy: 0.614600\n",
      "Epoch 32, CIFAR-10 Batch 4:  Loss:     0.8125 Validation Accuracy: 0.595400\n",
      "Epoch 32, CIFAR-10 Batch 5:  Loss:     0.7728 Validation Accuracy: 0.618600\n",
      "Epoch 33, CIFAR-10 Batch 1:  Loss:     0.8961 Validation Accuracy: 0.607400\n",
      "Epoch 33, CIFAR-10 Batch 2:  Loss:     0.7117 Validation Accuracy: 0.608000\n",
      "Epoch 33, CIFAR-10 Batch 3:  Loss:     0.6052 Validation Accuracy: 0.608000\n",
      "Epoch 33, CIFAR-10 Batch 4:  Loss:     0.8082 Validation Accuracy: 0.605200\n",
      "Epoch 33, CIFAR-10 Batch 5:  Loss:     0.7669 Validation Accuracy: 0.613000\n",
      "Epoch 34, CIFAR-10 Batch 1:  Loss:     0.8901 Validation Accuracy: 0.612200\n",
      "Epoch 34, CIFAR-10 Batch 2:  Loss:     0.7234 Validation Accuracy: 0.606200\n",
      "Epoch 34, CIFAR-10 Batch 3:  Loss:     0.6385 Validation Accuracy: 0.598800\n",
      "Epoch 34, CIFAR-10 Batch 4:  Loss:     0.7743 Validation Accuracy: 0.613000\n",
      "Epoch 34, CIFAR-10 Batch 5:  Loss:     0.7344 Validation Accuracy: 0.612600\n",
      "Epoch 35, CIFAR-10 Batch 1:  Loss:     0.8751 Validation Accuracy: 0.598800\n",
      "Epoch 35, CIFAR-10 Batch 2:  Loss:     0.7227 Validation Accuracy: 0.613600\n",
      "Epoch 35, CIFAR-10 Batch 3:  Loss:     0.6040 Validation Accuracy: 0.613800\n",
      "Epoch 35, CIFAR-10 Batch 4:  Loss:     0.8109 Validation Accuracy: 0.597800\n",
      "Epoch 35, CIFAR-10 Batch 5:  Loss:     0.7561 Validation Accuracy: 0.614400\n",
      "Epoch 36, CIFAR-10 Batch 1:  Loss:     0.8821 Validation Accuracy: 0.610600\n",
      "Epoch 36, CIFAR-10 Batch 2:  Loss:     0.6983 Validation Accuracy: 0.610200\n",
      "Epoch 36, CIFAR-10 Batch 3:  Loss:     0.6102 Validation Accuracy: 0.612200\n",
      "Epoch 36, CIFAR-10 Batch 4:  Loss:     0.7827 Validation Accuracy: 0.600800\n",
      "Epoch 36, CIFAR-10 Batch 5:  Loss:     0.7637 Validation Accuracy: 0.612400\n",
      "Epoch 37, CIFAR-10 Batch 1:  Loss:     0.8602 Validation Accuracy: 0.613600\n",
      "Epoch 37, CIFAR-10 Batch 2:  Loss:     0.6977 Validation Accuracy: 0.620200\n",
      "Epoch 37, CIFAR-10 Batch 3:  Loss:     0.6089 Validation Accuracy: 0.619000\n",
      "Epoch 37, CIFAR-10 Batch 4:  Loss:     0.7768 Validation Accuracy: 0.608000\n",
      "Epoch 37, CIFAR-10 Batch 5:  Loss:     0.7478 Validation Accuracy: 0.616800\n",
      "Epoch 38, CIFAR-10 Batch 1:  Loss:     0.8196 Validation Accuracy: 0.610400\n",
      "Epoch 38, CIFAR-10 Batch 2:  Loss:     0.6913 Validation Accuracy: 0.622000\n",
      "Epoch 38, CIFAR-10 Batch 3:  Loss:     0.5981 Validation Accuracy: 0.605600\n",
      "Epoch 38, CIFAR-10 Batch 4:  Loss:     0.7533 Validation Accuracy: 0.609800\n",
      "Epoch 38, CIFAR-10 Batch 5:  Loss:     0.7187 Validation Accuracy: 0.621600\n",
      "Epoch 39, CIFAR-10 Batch 1:  Loss:     0.8224 Validation Accuracy: 0.614200\n",
      "Epoch 39, CIFAR-10 Batch 2:  Loss:     0.6739 Validation Accuracy: 0.617200\n",
      "Epoch 39, CIFAR-10 Batch 3:  Loss:     0.5850 Validation Accuracy: 0.617000\n",
      "Epoch 39, CIFAR-10 Batch 4:  Loss:     0.7458 Validation Accuracy: 0.608200\n",
      "Epoch 39, CIFAR-10 Batch 5:  Loss:     0.7149 Validation Accuracy: 0.617600\n",
      "Epoch 40, CIFAR-10 Batch 1:  Loss:     0.8105 Validation Accuracy: 0.610600\n",
      "Epoch 40, CIFAR-10 Batch 2:  Loss:     0.6646 Validation Accuracy: 0.616800\n",
      "Epoch 40, CIFAR-10 Batch 3:  Loss:     0.5866 Validation Accuracy: 0.606600\n",
      "Epoch 40, CIFAR-10 Batch 4:  Loss:     0.7281 Validation Accuracy: 0.613800\n",
      "Epoch 40, CIFAR-10 Batch 5:  Loss:     0.7297 Validation Accuracy: 0.625800\n",
      "Epoch 41, CIFAR-10 Batch 1:  Loss:     0.8312 Validation Accuracy: 0.617200\n",
      "Epoch 41, CIFAR-10 Batch 2:  Loss:     0.6481 Validation Accuracy: 0.618000\n",
      "Epoch 41, CIFAR-10 Batch 3:  Loss:     0.5760 Validation Accuracy: 0.608000\n",
      "Epoch 41, CIFAR-10 Batch 4:  Loss:     0.7448 Validation Accuracy: 0.610600\n",
      "Epoch 41, CIFAR-10 Batch 5:  Loss:     0.6803 Validation Accuracy: 0.617600\n",
      "Epoch 42, CIFAR-10 Batch 1:  Loss:     0.7827 Validation Accuracy: 0.620200\n",
      "Epoch 42, CIFAR-10 Batch 2:  Loss:     0.6365 Validation Accuracy: 0.617400\n",
      "Epoch 42, CIFAR-10 Batch 3:  Loss:     0.5777 Validation Accuracy: 0.610800\n",
      "Epoch 42, CIFAR-10 Batch 4:  Loss:     0.7270 Validation Accuracy: 0.614600\n",
      "Epoch 42, CIFAR-10 Batch 5:  Loss:     0.6786 Validation Accuracy: 0.620400\n",
      "Epoch 43, CIFAR-10 Batch 1:  Loss:     0.8110 Validation Accuracy: 0.613400\n",
      "Epoch 43, CIFAR-10 Batch 2:  Loss:     0.6801 Validation Accuracy: 0.615800\n",
      "Epoch 43, CIFAR-10 Batch 3:  Loss:     0.5748 Validation Accuracy: 0.618200\n",
      "Epoch 43, CIFAR-10 Batch 4:  Loss:     0.7384 Validation Accuracy: 0.616600\n",
      "Epoch 43, CIFAR-10 Batch 5:  Loss:     0.6695 Validation Accuracy: 0.623600\n",
      "Epoch 44, CIFAR-10 Batch 1:  Loss:     0.7993 Validation Accuracy: 0.617600\n",
      "Epoch 44, CIFAR-10 Batch 2:  Loss:     0.6362 Validation Accuracy: 0.616600\n",
      "Epoch 44, CIFAR-10 Batch 3:  Loss:     0.5444 Validation Accuracy: 0.625200\n",
      "Epoch 44, CIFAR-10 Batch 4:  Loss:     0.7249 Validation Accuracy: 0.609000\n",
      "Epoch 44, CIFAR-10 Batch 5:  Loss:     0.6712 Validation Accuracy: 0.614600\n",
      "Epoch 45, CIFAR-10 Batch 1:  Loss:     0.7925 Validation Accuracy: 0.604600\n",
      "Epoch 45, CIFAR-10 Batch 2:  Loss:     0.6389 Validation Accuracy: 0.623400\n",
      "Epoch 45, CIFAR-10 Batch 3:  Loss:     0.5639 Validation Accuracy: 0.620000\n",
      "Epoch 45, CIFAR-10 Batch 4:  Loss:     0.7247 Validation Accuracy: 0.609200\n",
      "Epoch 45, CIFAR-10 Batch 5:  Loss:     0.6779 Validation Accuracy: 0.616200\n",
      "Epoch 46, CIFAR-10 Batch 1:  Loss:     0.7652 Validation Accuracy: 0.617600\n",
      "Epoch 46, CIFAR-10 Batch 2:  Loss:     0.6485 Validation Accuracy: 0.621600\n",
      "Epoch 46, CIFAR-10 Batch 3:  Loss:     0.5616 Validation Accuracy: 0.615800\n",
      "Epoch 46, CIFAR-10 Batch 4:  Loss:     0.7147 Validation Accuracy: 0.605200\n",
      "Epoch 46, CIFAR-10 Batch 5:  Loss:     0.6810 Validation Accuracy: 0.615200\n",
      "Epoch 47, CIFAR-10 Batch 1:  Loss:     0.7694 Validation Accuracy: 0.612200\n",
      "Epoch 47, CIFAR-10 Batch 2:  Loss:     0.6569 Validation Accuracy: 0.616000\n",
      "Epoch 47, CIFAR-10 Batch 3:  Loss:     0.5632 Validation Accuracy: 0.623200\n",
      "Epoch 47, CIFAR-10 Batch 4:  Loss:     0.7201 Validation Accuracy: 0.611800\n",
      "Epoch 47, CIFAR-10 Batch 5:  Loss:     0.6617 Validation Accuracy: 0.622400\n",
      "Epoch 48, CIFAR-10 Batch 1:  Loss:     0.7754 Validation Accuracy: 0.606000\n",
      "Epoch 48, CIFAR-10 Batch 2:  Loss:     0.6392 Validation Accuracy: 0.615000\n",
      "Epoch 48, CIFAR-10 Batch 3:  Loss:     0.5393 Validation Accuracy: 0.620400\n",
      "Epoch 48, CIFAR-10 Batch 4:  Loss:     0.7042 Validation Accuracy: 0.607400\n",
      "Epoch 48, CIFAR-10 Batch 5:  Loss:     0.6813 Validation Accuracy: 0.616800\n",
      "Epoch 49, CIFAR-10 Batch 1:  Loss:     0.7765 Validation Accuracy: 0.620800\n",
      "Epoch 49, CIFAR-10 Batch 2:  Loss:     0.6268 Validation Accuracy: 0.615400\n",
      "Epoch 49, CIFAR-10 Batch 3:  Loss:     0.5503 Validation Accuracy: 0.623600\n",
      "Epoch 49, CIFAR-10 Batch 4:  Loss:     0.6957 Validation Accuracy: 0.615600\n",
      "Epoch 49, CIFAR-10 Batch 5:  Loss:     0.6436 Validation Accuracy: 0.621000\n",
      "Epoch 50, CIFAR-10 Batch 1:  Loss:     0.7394 Validation Accuracy: 0.616200\n",
      "Epoch 50, CIFAR-10 Batch 2:  Loss:     0.6295 Validation Accuracy: 0.615800\n",
      "Epoch 50, CIFAR-10 Batch 3:  Loss:     0.5400 Validation Accuracy: 0.624800\n",
      "Epoch 50, CIFAR-10 Batch 4:  Loss:     0.6716 Validation Accuracy: 0.613600\n",
      "Epoch 50, CIFAR-10 Batch 5:  Loss:     0.6451 Validation Accuracy: 0.620400\n",
      "Epoch 51, CIFAR-10 Batch 1:  Loss:     0.7501 Validation Accuracy: 0.619200\n",
      "Epoch 51, CIFAR-10 Batch 2:  Loss:     0.6399 Validation Accuracy: 0.615200\n",
      "Epoch 51, CIFAR-10 Batch 3:  Loss:     0.5458 Validation Accuracy: 0.619000\n",
      "Epoch 51, CIFAR-10 Batch 4:  Loss:     0.6623 Validation Accuracy: 0.621600\n",
      "Epoch 51, CIFAR-10 Batch 5:  Loss:     0.6716 Validation Accuracy: 0.616800\n",
      "Epoch 52, CIFAR-10 Batch 1:  Loss:     0.7538 Validation Accuracy: 0.618200\n",
      "Epoch 52, CIFAR-10 Batch 2:  Loss:     0.6042 Validation Accuracy: 0.621000\n",
      "Epoch 52, CIFAR-10 Batch 3:  Loss:     0.5306 Validation Accuracy: 0.624200\n",
      "Epoch 52, CIFAR-10 Batch 4:  Loss:     0.6516 Validation Accuracy: 0.610600\n",
      "Epoch 52, CIFAR-10 Batch 5:  Loss:     0.6285 Validation Accuracy: 0.617200\n",
      "Epoch 53, CIFAR-10 Batch 1:  Loss:     0.7254 Validation Accuracy: 0.616600\n",
      "Epoch 53, CIFAR-10 Batch 2:  Loss:     0.5956 Validation Accuracy: 0.624800\n",
      "Epoch 53, CIFAR-10 Batch 3:  Loss:     0.5236 Validation Accuracy: 0.626800\n",
      "Epoch 53, CIFAR-10 Batch 4:  Loss:     0.6480 Validation Accuracy: 0.615800\n",
      "Epoch 53, CIFAR-10 Batch 5:  Loss:     0.6520 Validation Accuracy: 0.616800\n",
      "Epoch 54, CIFAR-10 Batch 1:  Loss:     0.7254 Validation Accuracy: 0.616800\n",
      "Epoch 54, CIFAR-10 Batch 2:  Loss:     0.5871 Validation Accuracy: 0.619000\n",
      "Epoch 54, CIFAR-10 Batch 3:  Loss:     0.5433 Validation Accuracy: 0.618200\n",
      "Epoch 54, CIFAR-10 Batch 4:  Loss:     0.6678 Validation Accuracy: 0.611400\n",
      "Epoch 54, CIFAR-10 Batch 5:  Loss:     0.6660 Validation Accuracy: 0.618600\n",
      "Epoch 55, CIFAR-10 Batch 1:  Loss:     0.7244 Validation Accuracy: 0.609200\n",
      "Epoch 55, CIFAR-10 Batch 2:  Loss:     0.6031 Validation Accuracy: 0.618000\n",
      "Epoch 55, CIFAR-10 Batch 3:  Loss:     0.5216 Validation Accuracy: 0.621400\n",
      "Epoch 55, CIFAR-10 Batch 4:  Loss:     0.6601 Validation Accuracy: 0.618000\n",
      "Epoch 55, CIFAR-10 Batch 5:  Loss:     0.6292 Validation Accuracy: 0.615000\n",
      "Epoch 56, CIFAR-10 Batch 1:  Loss:     0.6925 Validation Accuracy: 0.618400\n",
      "Epoch 56, CIFAR-10 Batch 2:  Loss:     0.5976 Validation Accuracy: 0.616400\n",
      "Epoch 56, CIFAR-10 Batch 3:  Loss:     0.5269 Validation Accuracy: 0.621200\n",
      "Epoch 56, CIFAR-10 Batch 4:  Loss:     0.6537 Validation Accuracy: 0.622600\n",
      "Epoch 56, CIFAR-10 Batch 5:  Loss:     0.6331 Validation Accuracy: 0.623200\n",
      "Epoch 57, CIFAR-10 Batch 1:  Loss:     0.7221 Validation Accuracy: 0.614800\n",
      "Epoch 57, CIFAR-10 Batch 2:  Loss:     0.6227 Validation Accuracy: 0.611400\n",
      "Epoch 57, CIFAR-10 Batch 3:  Loss:     0.5074 Validation Accuracy: 0.622800\n",
      "Epoch 57, CIFAR-10 Batch 4:  Loss:     0.6355 Validation Accuracy: 0.617800\n",
      "Epoch 57, CIFAR-10 Batch 5:  Loss:     0.6219 Validation Accuracy: 0.620600\n",
      "Epoch 58, CIFAR-10 Batch 1:  Loss:     0.7054 Validation Accuracy: 0.621800\n",
      "Epoch 58, CIFAR-10 Batch 2:  Loss:     0.6022 Validation Accuracy: 0.619400\n",
      "Epoch 58, CIFAR-10 Batch 3:  Loss:     0.5512 Validation Accuracy: 0.626200\n",
      "Epoch 58, CIFAR-10 Batch 4:  Loss:     0.6406 Validation Accuracy: 0.622200\n",
      "Epoch 58, CIFAR-10 Batch 5:  Loss:     0.6079 Validation Accuracy: 0.620000\n",
      "Epoch 59, CIFAR-10 Batch 1:  Loss:     0.7069 Validation Accuracy: 0.621200\n",
      "Epoch 59, CIFAR-10 Batch 2:  Loss:     0.5567 Validation Accuracy: 0.625000\n",
      "Epoch 59, CIFAR-10 Batch 3:  Loss:     0.4992 Validation Accuracy: 0.628800\n",
      "Epoch 59, CIFAR-10 Batch 4:  Loss:     0.6447 Validation Accuracy: 0.615000\n",
      "Epoch 59, CIFAR-10 Batch 5:  Loss:     0.5986 Validation Accuracy: 0.616800\n",
      "Epoch 60, CIFAR-10 Batch 1:  Loss:     0.6860 Validation Accuracy: 0.618400\n",
      "Epoch 60, CIFAR-10 Batch 2:  Loss:     0.5835 Validation Accuracy: 0.618600\n",
      "Epoch 60, CIFAR-10 Batch 3:  Loss:     0.5166 Validation Accuracy: 0.625200\n",
      "Epoch 60, CIFAR-10 Batch 4:  Loss:     0.6164 Validation Accuracy: 0.621400\n",
      "Epoch 60, CIFAR-10 Batch 5:  Loss:     0.5963 Validation Accuracy: 0.620400\n",
      "Epoch 61, CIFAR-10 Batch 1:  Loss:     0.7130 Validation Accuracy: 0.616200\n",
      "Epoch 61, CIFAR-10 Batch 2:  Loss:     0.5639 Validation Accuracy: 0.619200\n",
      "Epoch 61, CIFAR-10 Batch 3:  Loss:     0.5230 Validation Accuracy: 0.622600\n",
      "Epoch 61, CIFAR-10 Batch 4:  Loss:     0.6400 Validation Accuracy: 0.613600\n",
      "Epoch 61, CIFAR-10 Batch 5:  Loss:     0.6210 Validation Accuracy: 0.614600\n",
      "Epoch 62, CIFAR-10 Batch 1:  Loss:     0.6943 Validation Accuracy: 0.615000\n",
      "Epoch 62, CIFAR-10 Batch 2:  Loss:     0.5698 Validation Accuracy: 0.617800\n",
      "Epoch 62, CIFAR-10 Batch 3:  Loss:     0.4964 Validation Accuracy: 0.624800\n",
      "Epoch 62, CIFAR-10 Batch 4:  Loss:     0.6193 Validation Accuracy: 0.631000\n",
      "Epoch 62, CIFAR-10 Batch 5:  Loss:     0.5877 Validation Accuracy: 0.624400\n",
      "Epoch 63, CIFAR-10 Batch 1:  Loss:     0.6869 Validation Accuracy: 0.607200\n",
      "Epoch 63, CIFAR-10 Batch 2:  Loss:     0.5822 Validation Accuracy: 0.617400\n",
      "Epoch 63, CIFAR-10 Batch 3:  Loss:     0.5251 Validation Accuracy: 0.628600\n",
      "Epoch 63, CIFAR-10 Batch 4:  Loss:     0.6248 Validation Accuracy: 0.623000\n",
      "Epoch 63, CIFAR-10 Batch 5:  Loss:     0.6266 Validation Accuracy: 0.624400\n",
      "Epoch 64, CIFAR-10 Batch 1:  Loss:     0.7082 Validation Accuracy: 0.605400\n",
      "Epoch 64, CIFAR-10 Batch 2:  Loss:     0.5933 Validation Accuracy: 0.617800\n",
      "Epoch 64, CIFAR-10 Batch 3:  Loss:     0.5013 Validation Accuracy: 0.627600\n",
      "Epoch 64, CIFAR-10 Batch 4:  Loss:     0.5985 Validation Accuracy: 0.623200\n",
      "Epoch 64, CIFAR-10 Batch 5:  Loss:     0.5773 Validation Accuracy: 0.624600\n",
      "Epoch 65, CIFAR-10 Batch 1:  Loss:     0.6697 Validation Accuracy: 0.622800\n",
      "Epoch 65, CIFAR-10 Batch 2:  Loss:     0.5764 Validation Accuracy: 0.614400\n",
      "Epoch 65, CIFAR-10 Batch 3:  Loss:     0.4904 Validation Accuracy: 0.626800\n",
      "Epoch 65, CIFAR-10 Batch 4:  Loss:     0.6050 Validation Accuracy: 0.617800\n",
      "Epoch 65, CIFAR-10 Batch 5:  Loss:     0.6139 Validation Accuracy: 0.618200\n",
      "Epoch 66, CIFAR-10 Batch 1:  Loss:     0.6722 Validation Accuracy: 0.610000\n",
      "Epoch 66, CIFAR-10 Batch 2:  Loss:     0.5812 Validation Accuracy: 0.613800\n",
      "Epoch 66, CIFAR-10 Batch 3:  Loss:     0.4839 Validation Accuracy: 0.630000\n",
      "Epoch 66, CIFAR-10 Batch 4:  Loss:     0.6244 Validation Accuracy: 0.623800\n",
      "Epoch 66, CIFAR-10 Batch 5:  Loss:     0.6059 Validation Accuracy: 0.616200\n",
      "Epoch 67, CIFAR-10 Batch 1:  Loss:     0.6907 Validation Accuracy: 0.612400\n",
      "Epoch 67, CIFAR-10 Batch 2:  Loss:     0.5581 Validation Accuracy: 0.623000\n",
      "Epoch 67, CIFAR-10 Batch 3:  Loss:     0.4857 Validation Accuracy: 0.627800\n",
      "Epoch 67, CIFAR-10 Batch 4:  Loss:     0.6130 Validation Accuracy: 0.612400\n",
      "Epoch 67, CIFAR-10 Batch 5:  Loss:     0.5614 Validation Accuracy: 0.629200\n",
      "Epoch 68, CIFAR-10 Batch 1:  Loss:     0.6661 Validation Accuracy: 0.621200\n",
      "Epoch 68, CIFAR-10 Batch 2:  Loss:     0.5626 Validation Accuracy: 0.622000\n",
      "Epoch 68, CIFAR-10 Batch 3:  Loss:     0.4758 Validation Accuracy: 0.628400\n",
      "Epoch 68, CIFAR-10 Batch 4:  Loss:     0.6205 Validation Accuracy: 0.617200\n",
      "Epoch 68, CIFAR-10 Batch 5:  Loss:     0.5806 Validation Accuracy: 0.624400\n",
      "Epoch 69, CIFAR-10 Batch 1:  Loss:     0.6798 Validation Accuracy: 0.614800\n",
      "Epoch 69, CIFAR-10 Batch 2:  Loss:     0.5488 Validation Accuracy: 0.623200\n",
      "Epoch 69, CIFAR-10 Batch 3:  Loss:     0.4953 Validation Accuracy: 0.624400\n",
      "Epoch 69, CIFAR-10 Batch 4:  Loss:     0.6062 Validation Accuracy: 0.615800\n",
      "Epoch 69, CIFAR-10 Batch 5:  Loss:     0.5616 Validation Accuracy: 0.625200\n",
      "Epoch 70, CIFAR-10 Batch 1:  Loss:     0.6537 Validation Accuracy: 0.612800\n",
      "Epoch 70, CIFAR-10 Batch 2:  Loss:     0.5355 Validation Accuracy: 0.624800\n",
      "Epoch 70, CIFAR-10 Batch 3:  Loss:     0.4778 Validation Accuracy: 0.625200\n",
      "Epoch 70, CIFAR-10 Batch 4:  Loss:     0.5910 Validation Accuracy: 0.622400\n",
      "Epoch 70, CIFAR-10 Batch 5:  Loss:     0.5775 Validation Accuracy: 0.621000\n",
      "Epoch 71, CIFAR-10 Batch 1:  Loss:     0.6545 Validation Accuracy: 0.623200\n",
      "Epoch 71, CIFAR-10 Batch 2:  Loss:     0.5685 Validation Accuracy: 0.614400\n",
      "Epoch 71, CIFAR-10 Batch 3:  Loss:     0.4697 Validation Accuracy: 0.624600\n",
      "Epoch 71, CIFAR-10 Batch 4:  Loss:     0.6363 Validation Accuracy: 0.627000\n",
      "Epoch 71, CIFAR-10 Batch 5:  Loss:     0.5561 Validation Accuracy: 0.622200\n",
      "Epoch 72, CIFAR-10 Batch 1:  Loss:     0.6666 Validation Accuracy: 0.617800\n",
      "Epoch 72, CIFAR-10 Batch 2:  Loss:     0.5407 Validation Accuracy: 0.620400\n",
      "Epoch 72, CIFAR-10 Batch 3:  Loss:     0.4949 Validation Accuracy: 0.624200\n",
      "Epoch 72, CIFAR-10 Batch 4:  Loss:     0.6151 Validation Accuracy: 0.616800\n",
      "Epoch 72, CIFAR-10 Batch 5:  Loss:     0.5930 Validation Accuracy: 0.619800\n",
      "Epoch 73, CIFAR-10 Batch 1:  Loss:     0.6632 Validation Accuracy: 0.617800\n",
      "Epoch 73, CIFAR-10 Batch 2:  Loss:     0.5360 Validation Accuracy: 0.622800\n",
      "Epoch 73, CIFAR-10 Batch 3:  Loss:     0.4610 Validation Accuracy: 0.627200\n",
      "Epoch 73, CIFAR-10 Batch 4:  Loss:     0.5884 Validation Accuracy: 0.626200\n",
      "Epoch 73, CIFAR-10 Batch 5:  Loss:     0.5802 Validation Accuracy: 0.621200\n",
      "Epoch 74, CIFAR-10 Batch 1:  Loss:     0.6401 Validation Accuracy: 0.612600\n",
      "Epoch 74, CIFAR-10 Batch 2:  Loss:     0.5551 Validation Accuracy: 0.614800\n",
      "Epoch 74, CIFAR-10 Batch 3:  Loss:     0.4860 Validation Accuracy: 0.623600\n",
      "Epoch 74, CIFAR-10 Batch 4:  Loss:     0.6025 Validation Accuracy: 0.620600\n",
      "Epoch 74, CIFAR-10 Batch 5:  Loss:     0.5638 Validation Accuracy: 0.622400\n",
      "Epoch 75, CIFAR-10 Batch 1:  Loss:     0.6295 Validation Accuracy: 0.610200\n",
      "Epoch 75, CIFAR-10 Batch 2:  Loss:     0.5624 Validation Accuracy: 0.618800\n",
      "Epoch 75, CIFAR-10 Batch 3:  Loss:     0.4583 Validation Accuracy: 0.631600\n",
      "Epoch 75, CIFAR-10 Batch 4:  Loss:     0.6092 Validation Accuracy: 0.629800\n",
      "Epoch 75, CIFAR-10 Batch 5:  Loss:     0.5949 Validation Accuracy: 0.618000\n",
      "Epoch 76, CIFAR-10 Batch 1:  Loss:     0.6460 Validation Accuracy: 0.604400\n",
      "Epoch 76, CIFAR-10 Batch 2:  Loss:     0.5422 Validation Accuracy: 0.603800\n",
      "Epoch 76, CIFAR-10 Batch 3:  Loss:     0.4365 Validation Accuracy: 0.620200\n",
      "Epoch 76, CIFAR-10 Batch 4:  Loss:     0.5945 Validation Accuracy: 0.623800\n",
      "Epoch 76, CIFAR-10 Batch 5:  Loss:     0.5909 Validation Accuracy: 0.617800\n",
      "Epoch 77, CIFAR-10 Batch 1:  Loss:     0.6578 Validation Accuracy: 0.610000\n",
      "Epoch 77, CIFAR-10 Batch 2:  Loss:     0.5671 Validation Accuracy: 0.609600\n",
      "Epoch 77, CIFAR-10 Batch 3:  Loss:     0.4602 Validation Accuracy: 0.624000\n",
      "Epoch 77, CIFAR-10 Batch 4:  Loss:     0.5871 Validation Accuracy: 0.626400\n",
      "Epoch 77, CIFAR-10 Batch 5:  Loss:     0.5846 Validation Accuracy: 0.620800\n",
      "Epoch 78, CIFAR-10 Batch 1:  Loss:     0.6489 Validation Accuracy: 0.609200\n",
      "Epoch 78, CIFAR-10 Batch 2:  Loss:     0.5456 Validation Accuracy: 0.607000\n",
      "Epoch 78, CIFAR-10 Batch 3:  Loss:     0.4714 Validation Accuracy: 0.625800\n",
      "Epoch 78, CIFAR-10 Batch 4:  Loss:     0.5808 Validation Accuracy: 0.621000\n",
      "Epoch 78, CIFAR-10 Batch 5:  Loss:     0.5745 Validation Accuracy: 0.624000\n",
      "Epoch 79, CIFAR-10 Batch 1:  Loss:     0.6609 Validation Accuracy: 0.607600\n",
      "Epoch 79, CIFAR-10 Batch 2:  Loss:     0.5230 Validation Accuracy: 0.615600\n",
      "Epoch 79, CIFAR-10 Batch 3:  Loss:     0.4585 Validation Accuracy: 0.629000\n",
      "Epoch 79, CIFAR-10 Batch 4:  Loss:     0.5851 Validation Accuracy: 0.624800\n",
      "Epoch 79, CIFAR-10 Batch 5:  Loss:     0.5626 Validation Accuracy: 0.621400\n",
      "Epoch 80, CIFAR-10 Batch 1:  Loss:     0.6339 Validation Accuracy: 0.617000\n",
      "Epoch 80, CIFAR-10 Batch 2:  Loss:     0.5039 Validation Accuracy: 0.619600\n",
      "Epoch 80, CIFAR-10 Batch 3:  Loss:     0.4525 Validation Accuracy: 0.624600\n",
      "Epoch 80, CIFAR-10 Batch 4:  Loss:     0.5796 Validation Accuracy: 0.628600\n",
      "Epoch 80, CIFAR-10 Batch 5:  Loss:     0.5952 Validation Accuracy: 0.609200\n",
      "Epoch 81, CIFAR-10 Batch 1:  Loss:     0.6164 Validation Accuracy: 0.614000\n",
      "Epoch 81, CIFAR-10 Batch 2:  Loss:     0.5196 Validation Accuracy: 0.613400\n",
      "Epoch 81, CIFAR-10 Batch 3:  Loss:     0.4699 Validation Accuracy: 0.630200\n",
      "Epoch 81, CIFAR-10 Batch 4:  Loss:     0.5663 Validation Accuracy: 0.622600\n",
      "Epoch 81, CIFAR-10 Batch 5:  Loss:     0.5592 Validation Accuracy: 0.622000\n",
      "Epoch 82, CIFAR-10 Batch 1:  Loss:     0.6314 Validation Accuracy: 0.607000\n",
      "Epoch 82, CIFAR-10 Batch 2:  Loss:     0.4968 Validation Accuracy: 0.617400\n",
      "Epoch 82, CIFAR-10 Batch 3:  Loss:     0.4322 Validation Accuracy: 0.622800\n",
      "Epoch 82, CIFAR-10 Batch 4:  Loss:     0.5593 Validation Accuracy: 0.629000\n",
      "Epoch 82, CIFAR-10 Batch 5:  Loss:     0.5600 Validation Accuracy: 0.627400\n",
      "Epoch 83, CIFAR-10 Batch 1:  Loss:     0.6221 Validation Accuracy: 0.600000\n",
      "Epoch 83, CIFAR-10 Batch 2:  Loss:     0.5082 Validation Accuracy: 0.618000\n",
      "Epoch 83, CIFAR-10 Batch 3:  Loss:     0.4618 Validation Accuracy: 0.626800\n",
      "Epoch 83, CIFAR-10 Batch 4:  Loss:     0.5650 Validation Accuracy: 0.627200\n",
      "Epoch 83, CIFAR-10 Batch 5:  Loss:     0.5312 Validation Accuracy: 0.627800\n",
      "Epoch 84, CIFAR-10 Batch 1:  Loss:     0.5812 Validation Accuracy: 0.616800\n",
      "Epoch 84, CIFAR-10 Batch 2:  Loss:     0.5023 Validation Accuracy: 0.621200\n",
      "Epoch 84, CIFAR-10 Batch 3:  Loss:     0.4373 Validation Accuracy: 0.628200\n",
      "Epoch 84, CIFAR-10 Batch 4:  Loss:     0.5635 Validation Accuracy: 0.627800\n",
      "Epoch 84, CIFAR-10 Batch 5:  Loss:     0.5851 Validation Accuracy: 0.614000\n",
      "Epoch 85, CIFAR-10 Batch 1:  Loss:     0.6428 Validation Accuracy: 0.605800\n",
      "Epoch 85, CIFAR-10 Batch 2:  Loss:     0.5018 Validation Accuracy: 0.607800\n",
      "Epoch 85, CIFAR-10 Batch 3:  Loss:     0.4399 Validation Accuracy: 0.628800\n",
      "Epoch 85, CIFAR-10 Batch 4:  Loss:     0.5573 Validation Accuracy: 0.627400\n",
      "Epoch 85, CIFAR-10 Batch 5:  Loss:     0.5661 Validation Accuracy: 0.623200\n",
      "Epoch 86, CIFAR-10 Batch 1:  Loss:     0.6205 Validation Accuracy: 0.605200\n",
      "Epoch 86, CIFAR-10 Batch 2:  Loss:     0.5364 Validation Accuracy: 0.607000\n",
      "Epoch 86, CIFAR-10 Batch 3:  Loss:     0.4318 Validation Accuracy: 0.628600\n",
      "Epoch 86, CIFAR-10 Batch 4:  Loss:     0.5618 Validation Accuracy: 0.627600\n",
      "Epoch 86, CIFAR-10 Batch 5:  Loss:     0.5678 Validation Accuracy: 0.618000\n",
      "Epoch 87, CIFAR-10 Batch 1:  Loss:     0.6072 Validation Accuracy: 0.614800\n",
      "Epoch 87, CIFAR-10 Batch 2:  Loss:     0.4907 Validation Accuracy: 0.613400\n",
      "Epoch 87, CIFAR-10 Batch 3:  Loss:     0.4533 Validation Accuracy: 0.627400\n",
      "Epoch 87, CIFAR-10 Batch 4:  Loss:     0.5564 Validation Accuracy: 0.624200\n",
      "Epoch 87, CIFAR-10 Batch 5:  Loss:     0.5598 Validation Accuracy: 0.622800\n",
      "Epoch 88, CIFAR-10 Batch 1:  Loss:     0.6143 Validation Accuracy: 0.600000\n",
      "Epoch 88, CIFAR-10 Batch 2:  Loss:     0.5283 Validation Accuracy: 0.599200\n",
      "Epoch 88, CIFAR-10 Batch 3:  Loss:     0.4433 Validation Accuracy: 0.628000\n",
      "Epoch 88, CIFAR-10 Batch 4:  Loss:     0.5603 Validation Accuracy: 0.627200\n",
      "Epoch 88, CIFAR-10 Batch 5:  Loss:     0.5346 Validation Accuracy: 0.628000\n",
      "Epoch 89, CIFAR-10 Batch 1:  Loss:     0.6042 Validation Accuracy: 0.610200\n",
      "Epoch 89, CIFAR-10 Batch 2:  Loss:     0.5005 Validation Accuracy: 0.607000\n",
      "Epoch 89, CIFAR-10 Batch 3:  Loss:     0.4306 Validation Accuracy: 0.626000\n",
      "Epoch 89, CIFAR-10 Batch 4:  Loss:     0.5654 Validation Accuracy: 0.627400\n",
      "Epoch 89, CIFAR-10 Batch 5:  Loss:     0.5763 Validation Accuracy: 0.623000\n",
      "Epoch 90, CIFAR-10 Batch 1:  Loss:     0.6243 Validation Accuracy: 0.605600\n",
      "Epoch 90, CIFAR-10 Batch 2:  Loss:     0.5013 Validation Accuracy: 0.613200\n",
      "Epoch 90, CIFAR-10 Batch 3:  Loss:     0.4580 Validation Accuracy: 0.621000\n",
      "Epoch 90, CIFAR-10 Batch 4:  Loss:     0.5554 Validation Accuracy: 0.622000\n",
      "Epoch 90, CIFAR-10 Batch 5:  Loss:     0.5420 Validation Accuracy: 0.628600\n",
      "Epoch 91, CIFAR-10 Batch 1:  Loss:     0.6043 Validation Accuracy: 0.606400\n",
      "Epoch 91, CIFAR-10 Batch 2:  Loss:     0.5125 Validation Accuracy: 0.616000\n",
      "Epoch 91, CIFAR-10 Batch 3:  Loss:     0.4486 Validation Accuracy: 0.621400\n",
      "Epoch 91, CIFAR-10 Batch 4:  Loss:     0.5485 Validation Accuracy: 0.617000\n",
      "Epoch 91, CIFAR-10 Batch 5:  Loss:     0.5532 Validation Accuracy: 0.626200\n",
      "Epoch 92, CIFAR-10 Batch 1:  Loss:     0.5937 Validation Accuracy: 0.613400\n",
      "Epoch 92, CIFAR-10 Batch 2:  Loss:     0.4987 Validation Accuracy: 0.607200\n",
      "Epoch 92, CIFAR-10 Batch 3:  Loss:     0.4246 Validation Accuracy: 0.624800\n",
      "Epoch 92, CIFAR-10 Batch 4:  Loss:     0.5570 Validation Accuracy: 0.618400\n",
      "Epoch 92, CIFAR-10 Batch 5:  Loss:     0.5388 Validation Accuracy: 0.622800\n",
      "Epoch 93, CIFAR-10 Batch 1:  Loss:     0.5864 Validation Accuracy: 0.613600\n",
      "Epoch 93, CIFAR-10 Batch 2:  Loss:     0.4911 Validation Accuracy: 0.617200\n",
      "Epoch 93, CIFAR-10 Batch 3:  Loss:     0.4317 Validation Accuracy: 0.628000\n",
      "Epoch 93, CIFAR-10 Batch 4:  Loss:     0.5516 Validation Accuracy: 0.615000\n",
      "Epoch 93, CIFAR-10 Batch 5:  Loss:     0.5600 Validation Accuracy: 0.623400\n",
      "Epoch 94, CIFAR-10 Batch 1:  Loss:     0.5780 Validation Accuracy: 0.614800\n",
      "Epoch 94, CIFAR-10 Batch 2:  Loss:     0.5095 Validation Accuracy: 0.608800\n",
      "Epoch 94, CIFAR-10 Batch 3:  Loss:     0.4171 Validation Accuracy: 0.630000\n",
      "Epoch 94, CIFAR-10 Batch 4:  Loss:     0.5570 Validation Accuracy: 0.621200\n",
      "Epoch 94, CIFAR-10 Batch 5:  Loss:     0.5336 Validation Accuracy: 0.627000\n",
      "Epoch 95, CIFAR-10 Batch 1:  Loss:     0.5502 Validation Accuracy: 0.614600\n",
      "Epoch 95, CIFAR-10 Batch 2:  Loss:     0.4950 Validation Accuracy: 0.612600\n",
      "Epoch 95, CIFAR-10 Batch 3:  Loss:     0.4140 Validation Accuracy: 0.627000\n",
      "Epoch 95, CIFAR-10 Batch 4:  Loss:     0.5251 Validation Accuracy: 0.612800\n",
      "Epoch 95, CIFAR-10 Batch 5:  Loss:     0.5517 Validation Accuracy: 0.623800\n",
      "Epoch 96, CIFAR-10 Batch 1:  Loss:     0.5682 Validation Accuracy: 0.614200\n",
      "Epoch 96, CIFAR-10 Batch 2:  Loss:     0.4915 Validation Accuracy: 0.614600\n",
      "Epoch 96, CIFAR-10 Batch 3:  Loss:     0.3989 Validation Accuracy: 0.628000\n",
      "Epoch 96, CIFAR-10 Batch 4:  Loss:     0.5303 Validation Accuracy: 0.622400\n",
      "Epoch 96, CIFAR-10 Batch 5:  Loss:     0.5234 Validation Accuracy: 0.630200\n",
      "Epoch 97, CIFAR-10 Batch 1:  Loss:     0.5840 Validation Accuracy: 0.609600\n",
      "Epoch 97, CIFAR-10 Batch 2:  Loss:     0.4884 Validation Accuracy: 0.613600\n",
      "Epoch 97, CIFAR-10 Batch 3:  Loss:     0.4216 Validation Accuracy: 0.626000\n",
      "Epoch 97, CIFAR-10 Batch 4:  Loss:     0.5303 Validation Accuracy: 0.619800\n",
      "Epoch 97, CIFAR-10 Batch 5:  Loss:     0.5317 Validation Accuracy: 0.624400\n",
      "Epoch 98, CIFAR-10 Batch 1:  Loss:     0.5599 Validation Accuracy: 0.613200\n",
      "Epoch 98, CIFAR-10 Batch 2:  Loss:     0.4919 Validation Accuracy: 0.614000\n",
      "Epoch 98, CIFAR-10 Batch 3:  Loss:     0.4334 Validation Accuracy: 0.621800\n",
      "Epoch 98, CIFAR-10 Batch 4:  Loss:     0.5465 Validation Accuracy: 0.621200\n",
      "Epoch 98, CIFAR-10 Batch 5:  Loss:     0.5418 Validation Accuracy: 0.624800\n",
      "Epoch 99, CIFAR-10 Batch 1:  Loss:     0.5689 Validation Accuracy: 0.612000\n",
      "Epoch 99, CIFAR-10 Batch 2:  Loss:     0.5152 Validation Accuracy: 0.609000\n",
      "Epoch 99, CIFAR-10 Batch 3:  Loss:     0.4242 Validation Accuracy: 0.622200\n",
      "Epoch 99, CIFAR-10 Batch 4:  Loss:     0.5341 Validation Accuracy: 0.621400\n",
      "Epoch 99, CIFAR-10 Batch 5:  Loss:     0.5306 Validation Accuracy: 0.624000\n",
      "Epoch 100, CIFAR-10 Batch 1:  Loss:     0.5453 Validation Accuracy: 0.618400\n",
      "Epoch 100, CIFAR-10 Batch 2:  Loss:     0.4699 Validation Accuracy: 0.622600\n",
      "Epoch 100, CIFAR-10 Batch 3:  Loss:     0.4194 Validation Accuracy: 0.625600\n",
      "Epoch 100, CIFAR-10 Batch 4:  Loss:     0.5192 Validation Accuracy: 0.627000\n",
      "Epoch 100, CIFAR-10 Batch 5:  Loss:     0.5131 Validation Accuracy: 0.631000\n"
     ]
    }
   ],
   "source": [
    "\"\"\"\n",
    "DON'T MODIFY ANYTHING IN THIS CELL\n",
    "\"\"\"\n",
    "save_model_path = './image_classification'\n",
    "\n",
    "print('Training...')\n",
    "with tf.Session() as sess:\n",
    "    # Initializing the variables\n",
    "    sess.run(tf.global_variables_initializer())\n",
    "    \n",
    "    # Training cycle\n",
    "    for epoch in range(epochs):\n",
    "        # Loop over all batches\n",
    "        n_batches = 5\n",
    "        for batch_i in range(1, n_batches + 1):\n",
    "            for batch_features, batch_labels in helper.load_preprocess_training_batch(batch_i, batch_size):\n",
    "                train_neural_network(sess, optimizer, keep_probability, batch_features, batch_labels)\n",
    "            print('Epoch {:>2}, CIFAR-10 Batch {}:  '.format(epoch + 1, batch_i), end='')\n",
    "            print_stats(sess, batch_features, batch_labels, cost, accuracy)\n",
    "            \n",
    "    # Save Model\n",
    "    saver = tf.train.Saver()\n",
    "    save_path = saver.save(sess, save_model_path)"
   ]
  },
  {
   "cell_type": "markdown",
   "metadata": {
    "deletable": true,
    "editable": true
   },
   "source": [
    "# Checkpoint\n",
    "The model has been saved to disk.\n",
    "## Test Model\n",
    "Test your model against the test dataset.  This will be your final accuracy. You should have an accuracy greater than 50%. If you don't, keep tweaking the model architecture and parameters."
   ]
  },
  {
   "cell_type": "code",
   "execution_count": 80,
   "metadata": {
    "collapsed": false,
    "deletable": true,
    "editable": true
   },
   "outputs": [
    {
     "name": "stdout",
     "output_type": "stream",
     "text": [
      "Testing Accuracy: 0.632421875\n",
      "\n"
     ]
    },
    {
     "data": {
      "image/png": "[encoded data removed]",
      "text/plain": [
       "<matplotlib.figure.Figure at 0xe7e14e0>"
      ]
     },
     "metadata": {
      "image/png": {
       "height": 319,
       "width": 355
      }
     },
     "output_type": "display_data"
    }
   ],
   "source": [
    "\"\"\"\n",
    "DON'T MODIFY ANYTHING IN THIS CELL\n",
    "\"\"\"\n",
    "%matplotlib inline\n",
    "%config InlineBackend.figure_format = 'retina'\n",
    "\n",
    "import tensorflow as tf\n",
    "import pickle\n",
    "import helper\n",
    "import random\n",
    "\n",
    "# Set batch size if not already set\n",
    "try:\n",
    "    if batch_size:\n",
    "        pass\n",
    "except NameError:\n",
    "    batch_size = 64\n",
    "\n",
    "save_model_path = './image_classification'\n",
    "n_samples = 4\n",
    "top_n_predictions = 3\n",
    "\n",
    "def test_model():\n",
    "    \"\"\"\n",
    "    Test the saved model against the test dataset\n",
    "    \"\"\"\n",
    "\n",
    "    test_features, test_labels = pickle.load(open('preprocess_training.p', mode='rb'))\n",
    "    loaded_graph = tf.Graph()\n",
    "\n",
    "    with tf.Session(graph=loaded_graph) as sess:\n",
    "        # Load model\n",
    "        loader = tf.train.import_meta_graph(save_model_path + '.meta')\n",
    "        loader.restore(sess, save_model_path)\n",
    "\n",
    "        # Get Tensors from loaded model\n",
    "        loaded_x = loaded_graph.get_tensor_by_name('x:0')\n",
    "        loaded_y = loaded_graph.get_tensor_by_name('y:0')\n",
    "        loaded_keep_prob = loaded_graph.get_tensor_by_name('keep_prob:0')\n",
    "        loaded_logits = loaded_graph.get_tensor_by_name('logits:0')\n",
    "        loaded_acc = loaded_graph.get_tensor_by_name('accuracy:0')\n",
    "        \n",
    "        # Get accuracy in batches for memory limitations\n",
    "        test_batch_acc_total = 0\n",
    "        test_batch_count = 0\n",
    "        \n",
    "        for train_feature_batch, train_label_batch in helper.batch_features_labels(test_features, test_labels, batch_size):\n",
    "            test_batch_acc_total += sess.run(\n",
    "                loaded_acc,\n",
    "                feed_dict={loaded_x: train_feature_batch, loaded_y: train_label_batch, loaded_keep_prob: 1.0})\n",
    "            test_batch_count += 1\n",
    "\n",
    "        print('Testing Accuracy: {}\\n'.format(test_batch_acc_total/test_batch_count))\n",
    "\n",
    "        # Print Random Samples\n",
    "        random_test_features, random_test_labels = tuple(zip(*random.sample(list(zip(test_features, test_labels)), n_samples)))\n",
    "        random_test_predictions = sess.run(\n",
    "            tf.nn.top_k(tf.nn.softmax(loaded_logits), top_n_predictions),\n",
    "            feed_dict={loaded_x: random_test_features, loaded_y: random_test_labels, loaded_keep_prob: 1.0})\n",
    "        helper.display_image_predictions(random_test_features, random_test_labels, random_test_predictions)\n",
    "\n",
    "\n",
    "test_model()"
   ]
  },
  {
   "cell_type": "markdown",
   "metadata": {
    "deletable": true,
    "editable": true
   },
   "source": [
    "## Why 50-80% Accuracy?\n",
    "You might be wondering why you can't get an accuracy any higher. First things first, 50% isn't bad for a simple CNN.  Pure guessing would get you 10% accuracy. However, you might notice people are getting scores [well above 80%](http://rodrigob.github.io/are_we_there_yet/build/classification_datasets_results.html#43494641522d3130).  That's because we haven't taught you all there is to know about neural networks. We still need to cover a few more techniques.\n",
    "## Submitting This Project\n",
    "When submitting this project, make sure to run all the cells before saving the notebook.  Save the notebook file as \"dlnd_image_classification.ipynb\" and save it as a HTML file under \"File\" -> \"Download as\".  Include the \"helper.py\" and \"problem_unittests.py\" files in your submission."
   ]
  }
 ],
 "metadata": {
  "kernelspec": {
   "display_name": "Python 3",
   "language": "python",
   "name": "python3"
  },
  "language_info": {
   "codemirror_mode": {
    "name": "ipython",
    "version": 3
   },
   "file_extension": ".py",
   "mimetype": "text/x-python",
   "name": "python",
   "nbconvert_exporter": "python",
   "pygments_lexer": "ipython3",
   "version": "3.5.2"
  }
 },
 "nbformat": 4,
 "nbformat_minor": 0
}
